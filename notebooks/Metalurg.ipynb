{
 "cells": [
  {
   "cell_type": "code",
   "execution_count": 1,
   "metadata": {},
   "outputs": [],
   "source": [
    "from tqdm import tqdm\n",
    "import pandas as pd\n",
    "import numpy as np\n",
    "import os\n",
    "import re\n",
    "import encodings"
   ]
  },
  {
   "cell_type": "code",
   "execution_count": 2,
   "metadata": {},
   "outputs": [],
   "source": [
    "number_pattern = re.compile(\"\\w*\\d+\\w*\")\n",
    "article_pattern = re.compile(\"\\w*[d+,-.]\\w+\")"
   ]
  },
  {
   "cell_type": "code",
   "execution_count": 3,
   "metadata": {},
   "outputs": [
    {
     "data": {
      "text/plain": [
       "(7321, 8)"
      ]
     },
     "execution_count": 3,
     "metadata": {},
     "output_type": "execute_result"
    }
   ],
   "source": [
    "df = pd.read_csv(\"/home/rsolomatin/metalurgi/companies_info_v2.csv\", index_col=0)\n",
    "df[\"ИНН\"] = df[\"ИНН\"].astype(str)\n",
    "df.shape"
   ]
  },
  {
   "cell_type": "code",
   "execution_count": 28,
   "metadata": {},
   "outputs": [
    {
     "data": {
      "text/html": [
       "<div>\n",
       "<style scoped>\n",
       "    .dataframe tbody tr th:only-of-type {\n",
       "        vertical-align: middle;\n",
       "    }\n",
       "\n",
       "    .dataframe tbody tr th {\n",
       "        vertical-align: top;\n",
       "    }\n",
       "\n",
       "    .dataframe thead th {\n",
       "        text-align: right;\n",
       "    }\n",
       "</style>\n",
       "<table border=\"1\" class=\"dataframe\">\n",
       "  <thead>\n",
       "    <tr style=\"text-align: right;\">\n",
       "      <th></th>\n",
       "      <th>Индекс</th>\n",
       "      <th>Название</th>\n",
       "      <th>ИНН</th>\n",
       "      <th>ОГРН</th>\n",
       "      <th>Путь</th>\n",
       "      <th>ВК</th>\n",
       "      <th>Статус</th>\n",
       "      <th>Время</th>\n",
       "    </tr>\n",
       "  </thead>\n",
       "  <tbody>\n",
       "    <tr>\n",
       "      <th>0</th>\n",
       "      <td>1</td>\n",
       "      <td>ЕВРОКОЛОР, ООО</td>\n",
       "      <td>352526947648.0</td>\n",
       "      <td>1153525047092</td>\n",
       "      <td>Sber_parser/1-101/data/ЕВРОКОЛОР, ООО_0</td>\n",
       "      <td>NaN</td>\n",
       "      <td>-1</td>\n",
       "      <td>0.000000</td>\n",
       "    </tr>\n",
       "    <tr>\n",
       "      <th>1</th>\n",
       "      <td>2</td>\n",
       "      <td>ВЮМ, ООО</td>\n",
       "      <td>772503503336.0</td>\n",
       "      <td>1147746090887</td>\n",
       "      <td>Sber_parser/1-101/data/ВЮМ, ООО_0</td>\n",
       "      <td>NaN</td>\n",
       "      <td>1</td>\n",
       "      <td>1.529426</td>\n",
       "    </tr>\n",
       "    <tr>\n",
       "      <th>2</th>\n",
       "      <td>3</td>\n",
       "      <td>НОПРОФ, ООО</td>\n",
       "      <td>781110795023.0</td>\n",
       "      <td>1037825017340</td>\n",
       "      <td>Sber_parser/1-101/data/НОПРОФ, ООО_0</td>\n",
       "      <td>NaN</td>\n",
       "      <td>1</td>\n",
       "      <td>5.654249</td>\n",
       "    </tr>\n",
       "    <tr>\n",
       "      <th>3</th>\n",
       "      <td>4</td>\n",
       "      <td>СТАЙЕР, ООО МПК</td>\n",
       "      <td>741111765876.0</td>\n",
       "      <td>1117411000882</td>\n",
       "      <td>Sber_parser/1-101/data/СТАЙЕР, ООО МПК_0</td>\n",
       "      <td>NaN</td>\n",
       "      <td>-1</td>\n",
       "      <td>0.000000</td>\n",
       "    </tr>\n",
       "    <tr>\n",
       "      <th>4</th>\n",
       "      <td>5</td>\n",
       "      <td>ЗАМОК, ООО</td>\n",
       "      <td>590400687580.0</td>\n",
       "      <td>1105904005833</td>\n",
       "      <td>Sber_parser/1-101/data/ЗАМОК, ООО_0</td>\n",
       "      <td>NaN</td>\n",
       "      <td>-1</td>\n",
       "      <td>0.000000</td>\n",
       "    </tr>\n",
       "  </tbody>\n",
       "</table>\n",
       "</div>"
      ],
      "text/plain": [
       "   Индекс         Название             ИНН           ОГРН  \\\n",
       "0       1   ЕВРОКОЛОР, ООО  352526947648.0  1153525047092   \n",
       "1       2         ВЮМ, ООО  772503503336.0  1147746090887   \n",
       "2       3      НОПРОФ, ООО  781110795023.0  1037825017340   \n",
       "3       4  СТАЙЕР, ООО МПК  741111765876.0  1117411000882   \n",
       "4       5       ЗАМОК, ООО  590400687580.0  1105904005833   \n",
       "\n",
       "                                       Путь   ВК  Статус     Время  \n",
       "0   Sber_parser/1-101/data/ЕВРОКОЛОР, ООО_0  NaN      -1  0.000000  \n",
       "1         Sber_parser/1-101/data/ВЮМ, ООО_0  NaN       1  1.529426  \n",
       "2      Sber_parser/1-101/data/НОПРОФ, ООО_0  NaN       1  5.654249  \n",
       "3  Sber_parser/1-101/data/СТАЙЕР, ООО МПК_0  NaN      -1  0.000000  \n",
       "4       Sber_parser/1-101/data/ЗАМОК, ООО_0  NaN      -1  0.000000  "
      ]
     },
     "execution_count": 28,
     "metadata": {},
     "output_type": "execute_result"
    }
   ],
   "source": [
    "df.head()"
   ]
  },
  {
   "cell_type": "code",
   "execution_count": 5,
   "metadata": {},
   "outputs": [
    {
     "data": {
      "text/plain": [
       "(6617, 6391)"
      ]
     },
     "execution_count": 5,
     "metadata": {},
     "output_type": "execute_result"
    }
   ],
   "source": [
    "len(set(df[\"ИНН\"])), len(set(df[\"Название\"]))"
   ]
  },
  {
   "cell_type": "code",
   "execution_count": 5,
   "metadata": {},
   "outputs": [
    {
     "name": "stderr",
     "output_type": "stream",
     "text": [
      "801-901: 100%|██████████| 42/42 [00:04<00:00,  8.48it/s]\n",
      "6401-6601: 100%|██████████| 71/71 [00:16<00:00,  4.37it/s]\n",
      "4001-4201: 100%|██████████| 88/88 [00:22<00:00,  3.86it/s]\n",
      "6201-6401: 100%|██████████| 78/78 [00:08<00:00,  9.33it/s]\n",
      "5201-5401: 100%|██████████| 78/78 [00:12<00:00,  6.24it/s]\n",
      "3401-3601: 100%|██████████| 102/102 [00:26<00:00,  3.92it/s]\n",
      "1201-1401: 100%|██████████| 96/96 [00:22<00:00,  4.32it/s]\n",
      "1-101: 100%|██████████| 48/48 [00:20<00:00,  2.33it/s]\n",
      "1001-1201: 100%|██████████| 105/105 [00:54<00:00,  1.94it/s]\n",
      "201-301: 100%|██████████| 34/34 [00:05<00:00,  6.13it/s]\n",
      "4801-5001: 100%|██████████| 75/75 [00:10<00:00,  7.18it/s]\n",
      "5401-5601: 100%|██████████| 78/78 [00:17<00:00,  4.37it/s]\n",
      "1601-1801: 100%|██████████| 86/86 [00:24<00:00,  3.57it/s]\n",
      "2401-2601: 100%|██████████| 88/88 [00:27<00:00,  3.25it/s]\n",
      "4201-4401: 100%|██████████| 82/82 [01:03<00:00,  1.28it/s]\n",
      "401-501: 100%|██████████| 35/35 [00:14<00:00,  2.39it/s]\n",
      "5001-5201: 100%|██████████| 85/85 [00:23<00:00,  3.63it/s]\n",
      "6801-7001: 100%|██████████| 14/14 [00:01<00:00,  9.19it/s]\n",
      "901-1001: 100%|██████████| 47/47 [00:22<00:00,  2.05it/s]\n",
      "2201-2401: 100%|██████████| 97/97 [00:31<00:00,  3.05it/s]\n",
      "4401-4601: 100%|██████████| 89/89 [00:27<00:00,  3.24it/s]\n",
      "2801-3001: 100%|██████████| 94/94 [00:16<00:00,  5.77it/s]\n",
      "501-601: 100%|██████████| 41/41 [00:09<00:00,  4.22it/s]\n",
      "2601-2801: 100%|██████████| 83/83 [00:28<00:00,  2.96it/s]\n",
      "601-701: 100%|██████████| 49/49 [00:08<00:00,  5.58it/s]\n",
      "3001-3201: 100%|██████████| 105/105 [00:26<00:00,  3.89it/s]\n",
      "2001-2201: 100%|██████████| 81/81 [00:26<00:00,  3.03it/s]\n",
      "101-201: 100%|██████████| 37/37 [00:05<00:00,  7.11it/s]\n",
      "3601-3801: 100%|██████████| 91/91 [00:31<00:00,  2.85it/s]\n",
      "701-801: 100%|██████████| 44/44 [00:26<00:00,  1.65it/s]\n",
      "6001-6201: 100%|██████████| 86/86 [00:42<00:00,  2.01it/s]\n",
      "3201-3401: 100%|██████████| 93/93 [00:39<00:00,  2.36it/s]\n",
      "5601-5801: 100%|██████████| 86/86 [00:18<00:00,  4.61it/s]\n",
      "6601-6801: 100%|██████████| 92/92 [00:24<00:00,  3.72it/s]\n",
      "301-401: 100%|██████████| 35/35 [00:14<00:00,  2.37it/s]\n",
      "1801-2001: 100%|██████████| 89/89 [00:20<00:00,  4.28it/s]\n",
      "5801-6001: 100%|██████████| 90/90 [00:33<00:00,  2.69it/s]\n",
      "4601-4801: 100%|██████████| 94/94 [00:22<00:00,  4.18it/s]\n",
      "1401-1601: 100%|██████████| 79/79 [00:28<00:00,  2.81it/s]\n",
      "3801-4001: 100%|██████████| 93/93 [00:37<00:00,  2.45it/s]"
     ]
    },
    {
     "name": "stdout",
     "output_type": "stream",
     "text": [
      "CPU times: user 12min 20s, sys: 16.6 s, total: 12min 37s\n",
      "Wall time: 15min 22s\n"
     ]
    },
    {
     "name": "stderr",
     "output_type": "stream",
     "text": [
      "\n"
     ]
    }
   ],
   "source": [
    "%%time\n",
    "\n",
    "path = \"/home/rsolomatin/metalurgi/Sber_parser\"\n",
    "path_inn = {path: inn for path, inn in zip(df[\"Путь\"], df[\"ИНН\"])}\n",
    "data = []\n",
    "for parent_directory in os.listdir(path):\n",
    "    main_dir = os.path.join(path, f\"{parent_directory}/data\")\n",
    "    for directory in tqdm(os.listdir(main_dir), desc=parent_directory):\n",
    "        df_path = os.path.join(\"Sber_parser\", parent_directory, \"data\", directory)\n",
    "        inn = path_inn.get(df_path, None)\n",
    "        subdir = os.path.join(main_dir, directory)\n",
    "        for file in os.listdir(subdir):\n",
    "            file_path = os.path.join(subdir, file)\n",
    "            if not os.path.isfile(file_path):\n",
    "                continue\n",
    "            with open(file_path) as f:\n",
    "                lines = f.readlines()\n",
    "                for i, line in enumerate(lines):\n",
    "                    words = line.split()\n",
    "                    if len(words) <= 3:\n",
    "                        continue\n",
    "                    final_line = []\n",
    "                    for word in words:\n",
    "                        word = number_pattern.sub(r\"\", word)\n",
    "                        word = article_pattern.sub(r\"\", word)\n",
    "                        final_line.append(word)\n",
    "                    data.append(\n",
    "                        {\n",
    "                            \"path\": file_path,\n",
    "                            \"inn\": inn,\n",
    "                            \"sent_num\": i,\n",
    "                            \"line\": \" \".join(final_line),\n",
    "                        }\n",
    "                    )"
   ]
  },
  {
   "cell_type": "code",
   "execution_count": 6,
   "metadata": {},
   "outputs": [
    {
     "data": {
      "text/plain": [
       "27415533"
      ]
     },
     "execution_count": 6,
     "metadata": {},
     "output_type": "execute_result"
    }
   ],
   "source": [
    "len(data)"
   ]
  },
  {
   "cell_type": "code",
   "execution_count": 7,
   "metadata": {},
   "outputs": [
    {
     "name": "stdout",
     "output_type": "stream",
     "text": [
      "CPU times: user 2min 5s, sys: 8.7 s, total: 2min 14s\n",
      "Wall time: 3min 2s\n"
     ]
    }
   ],
   "source": [
    "%%time\n",
    "pd.DataFrame(data).to_csv(\"parsed_metalurgs.csv\", index=False)"
   ]
  },
  {
   "cell_type": "code",
   "execution_count": 52,
   "metadata": {},
   "outputs": [],
   "source": [
    "def get_company_first_sent(df):\n",
    "    sent = df.groupby(\"path\")[\"line\"].first().reset_index()\n",
    "    sent[\"company\"] = sent[\"path\"].str.split(\"/\").str[-2]\n",
    "    sent[\"folder\"] = sent[\"path\"].str.split(\"/\").str[5]\n",
    "    sent = sent.groupby(\"company\").first().reset_index()\n",
    "    sent[\"id\"] = sent[\"company\"].str.split(\"_\").str[-2:]\n",
    "    return sent"
   ]
  },
  {
   "cell_type": "code",
   "execution_count": 54,
   "metadata": {},
   "outputs": [
    {
     "name": "stdout",
     "output_type": "stream",
     "text": [
      "CPU times: user 2min 5s, sys: 5.12 s, total: 2min 11s\n",
      "Wall time: 2min 22s\n"
     ]
    }
   ],
   "source": [
    "%%time\n",
    "bad_companies = get_company_first_sent(pd.read_csv(\"parsed_metalurgs-Copy1.csv\"))\n",
    "good_companies = get_company_first_sent(pd.read_csv(\"parsed_metalurgs.csv\"))"
   ]
  },
  {
   "cell_type": "code",
   "execution_count": 55,
   "metadata": {},
   "outputs": [
    {
     "data": {
      "text/html": [
       "<div>\n",
       "<style scoped>\n",
       "    .dataframe tbody tr th:only-of-type {\n",
       "        vertical-align: middle;\n",
       "    }\n",
       "\n",
       "    .dataframe tbody tr th {\n",
       "        vertical-align: top;\n",
       "    }\n",
       "\n",
       "    .dataframe thead th {\n",
       "        text-align: right;\n",
       "    }\n",
       "</style>\n",
       "<table border=\"1\" class=\"dataframe\">\n",
       "  <thead>\n",
       "    <tr style=\"text-align: right;\">\n",
       "      <th></th>\n",
       "      <th>company</th>\n",
       "      <th>path</th>\n",
       "      <th>line</th>\n",
       "      <th>folder</th>\n",
       "      <th>id</th>\n",
       "    </tr>\n",
       "  </thead>\n",
       "  <tbody>\n",
       "    <tr>\n",
       "      <th>0</th>\n",
       "      <td>2 КУЛЬТУРЫ, ООО_1207800171061_0</td>\n",
       "      <td>/home/rsolomatin/metalurgi/Sber_parser/3601-38...</td>\n",
       "      <td>\" культуры Производство и оптовые поставки тов...</td>\n",
       "      <td>3601-3801</td>\n",
       "      <td>[1207800171061, 0]</td>\n",
       "    </tr>\n",
       "    <tr>\n",
       "      <th>1</th>\n",
       "      <td>268 МЗ, ООО_1163702081476_0</td>\n",
       "      <td>/home/rsolomatin/metalurgi/Sber_parser/1001-12...</td>\n",
       "      <td>\"Главная,  Металлообрабатывающий завод\"</td>\n",
       "      <td>1001-1201</td>\n",
       "      <td>[1163702081476, 0]</td>\n",
       "    </tr>\n",
       "    <tr>\n",
       "      <th>2</th>\n",
       "      <td>4 ИН, ООО_1207700112047_0</td>\n",
       "      <td>/home/rsolomatin/metalurgi/Sber_parser/4201-44...</td>\n",
       "      <td>\" — поставки металлорежущего инструмента ISCAR...</td>\n",
       "      <td>4201-4401</td>\n",
       "      <td>[1207700112047, 0]</td>\n",
       "    </tr>\n",
       "    <tr>\n",
       "      <th>3</th>\n",
       "      <td>6 СОТОК, ООО СК_1187746311697_0</td>\n",
       "      <td>/home/rsolomatin/metalurgi/Sber_parser/1401-16...</td>\n",
       "      <td>\"Заборы в Москве с установкой под ключ | Заказ...</td>\n",
       "      <td>1401-1601</td>\n",
       "      <td>[1187746311697, 0]</td>\n",
       "    </tr>\n",
       "    <tr>\n",
       "      <th>4</th>\n",
       "      <td>7 КООРДИНАТ, ООО_1185029003290_0</td>\n",
       "      <td>/home/rsolomatin/metalurgi/Sber_parser/2601-28...</td>\n",
       "      <td>\"Производство металлоизделий и металлоконструк...</td>\n",
       "      <td>2601-2801</td>\n",
       "      <td>[1185029003290, 0]</td>\n",
       "    </tr>\n",
       "    <tr>\n",
       "      <th>...</th>\n",
       "      <td>...</td>\n",
       "      <td>...</td>\n",
       "      <td>...</td>\n",
       "      <td>...</td>\n",
       "      <td>...</td>\n",
       "    </tr>\n",
       "    <tr>\n",
       "      <th>2860</th>\n",
       "      <td>ЯРКА-СТРОЙ, ООО_1186658075702_0</td>\n",
       "      <td>/home/rsolomatin/metalurgi/Sber_parser/1001-12...</td>\n",
       "      <td>\"Изготовление металлоконструкций от производит...</td>\n",
       "      <td>1001-1201</td>\n",
       "      <td>[1186658075702, 0]</td>\n",
       "    </tr>\n",
       "    <tr>\n",
       "      <th>2861</th>\n",
       "      <td>ЯРОСЛАВСКАЯ МЕТАЛЛООБРАБОТКА, ООО_1207600010760_0</td>\n",
       "      <td>/home/rsolomatin/metalurgi/Sber_parser/5801-60...</td>\n",
       "      <td>\"Проверены временем, воодушевлены работой\"</td>\n",
       "      <td>5801-6001</td>\n",
       "      <td>[1207600010760, 0]</td>\n",
       "    </tr>\n",
       "    <tr>\n",
       "      <th>2862</th>\n",
       "      <td>ЯРОСЛАВСКАЯ ТАРА, ООО_1027600514831_0</td>\n",
       "      <td>/home/rsolomatin/metalurgi/Sber_parser/201-301...</td>\n",
       "      <td>\"ÐÐ°Ð½Ð½ÑÐ¹ Ð´Ð¾Ð¼ÐµÐ½ Ð²Ð¾Ð·Ð¼Ð¾Ð¶Ð½Ð¾ Ð¿Ñ...</td>\n",
       "      <td>201-301</td>\n",
       "      <td>[1027600514831, 0]</td>\n",
       "    </tr>\n",
       "    <tr>\n",
       "      <th>2863</th>\n",
       "      <td>ЯРСТИЛЬМЕТАЛЛ, ООО_1217600004797_0</td>\n",
       "      <td>/home/rsolomatin/metalurgi/Sber_parser/1201-14...</td>\n",
       "      <td>\"Опоры мебельные от производителя - Ножки от А...</td>\n",
       "      <td>1201-1401</td>\n",
       "      <td>[1217600004797, 0]</td>\n",
       "    </tr>\n",
       "    <tr>\n",
       "      <th>2864</th>\n",
       "      <td>ЯРСТРОЙНАЛАДКА, ООО ПО_1027600691029_0</td>\n",
       "      <td>/home/rsolomatin/metalurgi/Sber_parser/1001-12...</td>\n",
       "      <td>\"Изготовление строительных и мостовых металлок...</td>\n",
       "      <td>1001-1201</td>\n",
       "      <td>[1027600691029, 0]</td>\n",
       "    </tr>\n",
       "  </tbody>\n",
       "</table>\n",
       "<p>2865 rows × 5 columns</p>\n",
       "</div>"
      ],
      "text/plain": [
       "                                                company  \\\n",
       "0                       2 КУЛЬТУРЫ, ООО_1207800171061_0   \n",
       "1                           268 МЗ, ООО_1163702081476_0   \n",
       "2                             4 ИН, ООО_1207700112047_0   \n",
       "3                       6 СОТОК, ООО СК_1187746311697_0   \n",
       "4                      7 КООРДИНАТ, ООО_1185029003290_0   \n",
       "...                                                 ...   \n",
       "2860                    ЯРКА-СТРОЙ, ООО_1186658075702_0   \n",
       "2861  ЯРОСЛАВСКАЯ МЕТАЛЛООБРАБОТКА, ООО_1207600010760_0   \n",
       "2862              ЯРОСЛАВСКАЯ ТАРА, ООО_1027600514831_0   \n",
       "2863                 ЯРСТИЛЬМЕТАЛЛ, ООО_1217600004797_0   \n",
       "2864             ЯРСТРОЙНАЛАДКА, ООО ПО_1027600691029_0   \n",
       "\n",
       "                                                   path  \\\n",
       "0     /home/rsolomatin/metalurgi/Sber_parser/3601-38...   \n",
       "1     /home/rsolomatin/metalurgi/Sber_parser/1001-12...   \n",
       "2     /home/rsolomatin/metalurgi/Sber_parser/4201-44...   \n",
       "3     /home/rsolomatin/metalurgi/Sber_parser/1401-16...   \n",
       "4     /home/rsolomatin/metalurgi/Sber_parser/2601-28...   \n",
       "...                                                 ...   \n",
       "2860  /home/rsolomatin/metalurgi/Sber_parser/1001-12...   \n",
       "2861  /home/rsolomatin/metalurgi/Sber_parser/5801-60...   \n",
       "2862  /home/rsolomatin/metalurgi/Sber_parser/201-301...   \n",
       "2863  /home/rsolomatin/metalurgi/Sber_parser/1201-14...   \n",
       "2864  /home/rsolomatin/metalurgi/Sber_parser/1001-12...   \n",
       "\n",
       "                                                   line     folder  \\\n",
       "0     \" культуры Производство и оптовые поставки тов...  3601-3801   \n",
       "1               \"Главная,  Металлообрабатывающий завод\"  1001-1201   \n",
       "2     \" — поставки металлорежущего инструмента ISCAR...  4201-4401   \n",
       "3     \"Заборы в Москве с установкой под ключ | Заказ...  1401-1601   \n",
       "4     \"Производство металлоизделий и металлоконструк...  2601-2801   \n",
       "...                                                 ...        ...   \n",
       "2860  \"Изготовление металлоконструкций от производит...  1001-1201   \n",
       "2861         \"Проверены временем, воодушевлены работой\"  5801-6001   \n",
       "2862  \"ÐÐ°Ð½Ð½ÑÐ¹ Ð´Ð¾Ð¼ÐµÐ½ Ð²Ð¾Ð·Ð¼Ð¾Ð¶Ð½Ð¾ Ð¿Ñ...    201-301   \n",
       "2863  \"Опоры мебельные от производителя - Ножки от А...  1201-1401   \n",
       "2864  \"Изготовление строительных и мостовых металлок...  1001-1201   \n",
       "\n",
       "                      id  \n",
       "0     [1207800171061, 0]  \n",
       "1     [1163702081476, 0]  \n",
       "2     [1207700112047, 0]  \n",
       "3     [1187746311697, 0]  \n",
       "4     [1185029003290, 0]  \n",
       "...                  ...  \n",
       "2860  [1186658075702, 0]  \n",
       "2861  [1207600010760, 0]  \n",
       "2862  [1027600514831, 0]  \n",
       "2863  [1217600004797, 0]  \n",
       "2864  [1027600691029, 0]  \n",
       "\n",
       "[2865 rows x 5 columns]"
      ]
     },
     "execution_count": 55,
     "metadata": {},
     "output_type": "execute_result"
    }
   ],
   "source": [
    "good_companies"
   ]
  },
  {
   "cell_type": "code",
   "execution_count": 93,
   "metadata": {},
   "outputs": [
    {
     "data": {
      "text/plain": [
       "((2865, 5), (2865, 5))"
      ]
     },
     "execution_count": 93,
     "metadata": {},
     "output_type": "execute_result"
    }
   ],
   "source": [
    "bad_companies.shape, good_companies.shape"
   ]
  },
  {
   "cell_type": "code",
   "execution_count": 56,
   "metadata": {},
   "outputs": [
    {
     "name": "stderr",
     "output_type": "stream",
     "text": [
      "100%|██████████| 2865/2865 [05:01<00:00,  9.50it/s]\n"
     ]
    }
   ],
   "source": [
    "pairs = []\n",
    "for _, good_comp in tqdm(good_companies.iterrows(), total=good_companies.shape[0]):\n",
    "    for _, bad_comp in bad_companies.iterrows():\n",
    "        if (\n",
    "            good_comp[\"line\"] == bad_comp[\"line\"]\n",
    "            and good_comp[\"folder\"] == bad_comp[\"folder\"]\n",
    "        ):\n",
    "            pairs.append((good_comp[\"company\"], bad_comp[\"company\"]))\n",
    "            if (\n",
    "                good_comp[\"company\"] == bad_comp[\"company\"]\n",
    "                or good_comp[\"id\"] == bad_comp[\"id\"]\n",
    "            ):\n",
    "                break"
   ]
  },
  {
   "cell_type": "code",
   "execution_count": 57,
   "metadata": {},
   "outputs": [],
   "source": [
    "pairs = pd.DataFrame(pairs)"
   ]
  },
  {
   "cell_type": "code",
   "execution_count": 89,
   "metadata": {},
   "outputs": [],
   "source": [
    "pairs.to_csv(\"pairs.csv\")"
   ]
  },
  {
   "cell_type": "code",
   "execution_count": 74,
   "metadata": {},
   "outputs": [
    {
     "data": {
      "text/plain": [
       "(2864, 2864)"
      ]
     },
     "execution_count": 74,
     "metadata": {},
     "output_type": "execute_result"
    }
   ],
   "source": [
    "pairs[\"good\"].nunique(), pairs[\"bad\"].nunique()"
   ]
  },
  {
   "cell_type": "code",
   "execution_count": 4,
   "metadata": {},
   "outputs": [],
   "source": [
    "pairs = pd.read_csv(\"pairs.csv\", usecols=[\"good\", \"bad\"])"
   ]
  },
  {
   "cell_type": "code",
   "execution_count": 72,
   "metadata": {},
   "outputs": [
    {
     "data": {
      "text/plain": [
       "array([], dtype=object)"
      ]
     },
     "execution_count": 72,
     "metadata": {},
     "output_type": "execute_result"
    }
   ],
   "source": [
    "pairs.groupby(\"good\").filter(lambda x: x[\"bad\"].count() > 1)[\"good\"].unique()"
   ]
  },
  {
   "cell_type": "code",
   "execution_count": 115,
   "metadata": {},
   "outputs": [
    {
     "name": "stderr",
     "output_type": "stream",
     "text": [
      "100%|██████████| 2865/2865 [00:00<00:00, 7059.96it/s]"
     ]
    },
    {
     "name": "stdout",
     "output_type": "stream",
     "text": [
      "company    ЭЙДЖЕС. САНКТ-ПЕТЕРБУРГСКАЯ ИСТОРИЧЕСКАЯ КОЛЛЕ...\n",
      "path       /home/rsolomatin/metalurgi/Sber_parser/2201-24...\n",
      "line                           \"Оловянные солдатики —  AGES\"\n",
      "folder                                             2201-2401\n",
      "id                                        [5067847018553, 0]\n",
      "Name: 2779, dtype: object\n"
     ]
    },
    {
     "name": "stderr",
     "output_type": "stream",
     "text": [
      "\n"
     ]
    }
   ],
   "source": [
    "for _, good in tqdm(good_companies.iterrows(), total=good_companies.shape[0]):\n",
    "    if not good[\"company\"] in pairs[\"good\"].values:\n",
    "        print(good)"
   ]
  },
  {
   "cell_type": "code",
   "execution_count": 113,
   "metadata": {},
   "outputs": [
    {
     "name": "stderr",
     "output_type": "stream",
     "text": [
      " 83%|████████▎ | 2374/2865 [00:00<00:00, 7985.89it/s]"
     ]
    },
    {
     "name": "stdout",
     "output_type": "stream",
     "text": [
      "company                    ДОН-КОМПЛЕКТ, ООО_1106193003300_0\n",
      "path       /home/rsolomatin/metalurgi/Sber_parser/3401-36...\n",
      "line                       \"Чугунный патрубок  конец ПФГ - \"\n",
      "folder                                             3401-3601\n",
      "id                                        [1106193003300, 0]\n",
      "Name: 303, dtype: object\n"
     ]
    },
    {
     "name": "stderr",
     "output_type": "stream",
     "text": [
      "100%|██████████| 2865/2865 [00:00<00:00, 7941.58it/s]\n"
     ]
    }
   ],
   "source": [
    "for _, bad in tqdm(bad_companies.iterrows(), total=bad_companies.shape[0]):\n",
    "    if not bad[\"company\"] in pairs[\"bad\"].values:\n",
    "        print(bad)"
   ]
  },
  {
   "cell_type": "code",
   "execution_count": 17,
   "metadata": {},
   "outputs": [],
   "source": [
    "df[\"company\"] = df[\"Путь\"].str.split(\"/\").str[-1]\n",
    "df[\"folder\"] = df[\"Путь\"].str.split(\"/\").str[1]"
   ]
  },
  {
   "cell_type": "code",
   "execution_count": 19,
   "metadata": {},
   "outputs": [
    {
     "name": "stderr",
     "output_type": "stream",
     "text": [
      "100%|██████████| 2864/2864 [00:04<00:00, 597.69it/s]\n"
     ]
    }
   ],
   "source": [
    "pairs[\"inn\"] = np.nan\n",
    "for index, row in tqdm(pairs.iterrows(), total=pairs.shape[0]):\n",
    "    pairs.loc[index, \"inn\"] = df[df[\"company\"] == row[\"good\"]][\"ИНН\"].values[0]\n",
    "    pairs.loc[\n",
    "        index, \"old_path\"\n",
    "    ] = f'/home/rsolomatin/metalurgi/Sber_parser/{df[df[\"company\"]==row[\"good\"]][\"folder\"].values[0]}/data/{row[\"bad\"]}'"
   ]
  },
  {
   "cell_type": "code",
   "execution_count": 25,
   "metadata": {},
   "outputs": [],
   "source": [
    "pairs.to_csv(\"pairs_with_inn.csv\")"
   ]
  }
 ],
 "metadata": {
  "kernelspec": {
   "display_name": "Python 3 (ipykernel)",
   "language": "python",
   "name": "python3"
  },
  "language_info": {
   "codemirror_mode": {
    "name": "ipython",
    "version": 3
   },
   "file_extension": ".py",
   "mimetype": "text/x-python",
   "name": "python",
   "nbconvert_exporter": "python",
   "pygments_lexer": "ipython3",
   "version": "3.10.4"
  },
  "widgets": {
   "application/vnd.jupyter.widget-state+json": {
    "state": {},
    "version_major": 2,
    "version_minor": 0
   }
  }
 },
 "nbformat": 4,
 "nbformat_minor": 4
}
