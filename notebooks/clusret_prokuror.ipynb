{
 "cells": [
  {
   "cell_type": "code",
   "execution_count": 1,
   "metadata": {},
   "outputs": [],
   "source": [
    "import joblib\n",
    "import torch\n",
    "from torch import nn, Tensor\n",
    "import torch.nn.functional as F\n",
    "from transformers import AutoTokenizer, AutoModel\n",
    "import pandas as pd\n",
    "import numpy as np\n",
    "from sklearn import preprocessing\n",
    "from tqdm import tqdm\n",
    "from numba import jit"
   ]
  },
  {
   "cell_type": "code",
   "execution_count": 2,
   "metadata": {},
   "outputs": [],
   "source": [
    "class Probability(nn.Module):\n",
    "    def __init__(self):\n",
    "        super(Probability, self).__init__()\n",
    "        self.alpha = torch.nn.Parameter(torch.ones(1), requires_grad=False)\n",
    "        # self.fc = nn.Linear(768*2,1)\n",
    "\n",
    "    def get_config_dict(self):\n",
    "        return {\"alpha\": self.alpha}\n",
    "\n",
    "    def forward(self, sentence1: Tensor, sentence2: Tensor):\n",
    "        distances = F.pairwise_distance(sentence1, sentence2, p=2)\n",
    "        prob = 2 / (1 + torch.exp(distances * (self.alpha**2)))\n",
    "        # out = self.fc(torch.cat((sentence1, sentence2),1))\n",
    "        # prob = 1 / (torch.exp(-out)+1)\n",
    "        return prob\n",
    "\n",
    "    def device(self):\n",
    "        return self.alpha.device\n",
    "\n",
    "\n",
    "class ProkurorProbModel(nn.Module):\n",
    "    def __init__(self, metalurg_prob_model, prokuror_bert):\n",
    "        super(ProkurorProbModel, self).__init__()\n",
    "\n",
    "        self.metalurg_prob_model = metalurg_prob_model\n",
    "\n",
    "        self.prokuror_bert = prokuror_bert\n",
    "\n",
    "        self.dense = nn.Linear(768, 768)\n",
    "        self.probability = Probability()\n",
    "\n",
    "    def forward(self, sentence1: Tensor, sentence2: Tensor):\n",
    "        with torch.no_grad():\n",
    "            self.metalurg_prob_model.eval()\n",
    "            a = self.metalurg_prob_model.get_embedding(sentence1)\n",
    "        b = self.get_embedding(sentence2)\n",
    "\n",
    "        p = self.probability(a, b)\n",
    "\n",
    "        return p\n",
    "\n",
    "    def get_embedding(self, sentence):\n",
    "        device = self.device()\n",
    "        # sentence.to(device)\n",
    "\n",
    "        anchor_ids = sentence[\"input_ids\"].to(device)\n",
    "        anchor_mask = sentence[\"attention_mask\"].to(device)\n",
    "        with torch.no_grad():\n",
    "            a = self.prokuror_bert(anchor_ids, attention_mask=anchor_mask)[0][:, 0]\n",
    "            a = self.dense(a)\n",
    "\n",
    "        return a\n",
    "\n",
    "    def to(self, device):\n",
    "        self.prokuror_bert.to(device)\n",
    "        self.dense.to(device)\n",
    "        self.probability.to(device)\n",
    "\n",
    "    def device(self):\n",
    "        return self.metalurg_prob_model.device()\n",
    "\n",
    "\n",
    "class ProbModel(nn.Module):\n",
    "    def __init__(self, bert):\n",
    "        super(ProbModel, self).__init__()\n",
    "        self.bert = bert\n",
    "        self.dense = nn.Linear(768, 768)\n",
    "        self.probability = Probability()\n",
    "\n",
    "    def forward(self, sentence1: Tensor, sentence2: Tensor):\n",
    "        \"\"\"\n",
    "        device = self.probability.device()\n",
    "\n",
    "        anchor_ids = sentence1[\"input_ids\"].to(device)\n",
    "        pos_ids = sentence2[\"input_ids\"].to(device)\n",
    "\n",
    "        anchor_mask = sentence1['attention_mask'].to(device)\n",
    "        pos_mask = sentence2['attention_mask'].to(device)\n",
    "\n",
    "        a = self.bert(anchor_ids, attention_mask=anchor_mask).pooler_output\n",
    "        b = self.bert(pos_ids, attention_mask=pos_mask).pooler_output\n",
    "        \"\"\"\n",
    "\n",
    "        a = self.get_embedding(sentence1)\n",
    "        b = self.get_embedding(sentence2)\n",
    "\n",
    "        p = self.probability(a, b)\n",
    "\n",
    "        return p\n",
    "\n",
    "    def get_embedding(self, sentence):\n",
    "        device = self.device()\n",
    "\n",
    "        anchor_ids = sentence[\"input_ids\"].to(device)\n",
    "        anchor_mask = sentence[\"attention_mask\"].to(device)\n",
    "        with torch.no_grad():\n",
    "            a = self.bert(anchor_ids, attention_mask=anchor_mask)[0][:, 0]\n",
    "            a = self.dense(a)\n",
    "        # a = self.bert(anchor_ids, attention_mask=anchor_mask).pooler_output\n",
    "\n",
    "        return a\n",
    "\n",
    "    def to(self, device):\n",
    "        self.bert.to(device)\n",
    "        self.dense.to(device)\n",
    "        self.probability.to(device)\n",
    "\n",
    "    def device(self):\n",
    "        return self.bert.device\n",
    "\n",
    "\n",
    "def load_model(model_name: str = \"DeepPavlov/rubert-base-cased\"):\n",
    "    tokenizer = AutoTokenizer.from_pretrained(model_name)\n",
    "    orig_model = AutoModel.from_pretrained(model_name)\n",
    "    pmodel = ProbModel(orig_model)\n",
    "    model = ProkurorProbModel(pmodel, orig_model)\n",
    "    d = torch.load(\"/home/rsolomatin/metalurgi/prokuror_model/learned_model/35.pth\")\n",
    "    model.load_state_dict(d[\"model\"])\n",
    "    return tokenizer, model"
   ]
  },
  {
   "cell_type": "code",
   "execution_count": 7,
   "metadata": {},
   "outputs": [
    {
     "data": {
      "text/plain": [
       "((4517712, 5), (5224726, 5), 86)"
      ]
     },
     "execution_count": 7,
     "metadata": {},
     "output_type": "execute_result"
    }
   ],
   "source": [
    "metalurgs = pd.read_csv(\n",
    "    \"data/parsed_metalurgs_v3_only_prokuror.csv\",\n",
    "    index_col=0,\n",
    "    dtype={\"Код налогоплательщика\": str},\n",
    ")\n",
    "metalurgs = metalurgs.rename(columns={\"Код налогоплательщика\": \"INN\"})\n",
    "prokuror = pd.read_csv(\n",
    "    \"data/prokuror_results.csv\", dtype={\"INN\": str}, compression=\"zip\"\n",
    ")\n",
    "# prokuror = pd.read_pickle(\"data/prokuror_results_allcolumns.pkl.zip\", compression=\"zip\")\n",
    "job = joblib.load(\"data/prokuror_test_inn.joblib\")\n",
    "\n",
    "metalurgs.shape, prokuror.shape, len(job)"
   ]
  },
  {
   "cell_type": "code",
   "execution_count": 8,
   "metadata": {},
   "outputs": [
    {
     "name": "stdout",
     "output_type": "stream",
     "text": [
      "CPU times: user 4.19 s, sys: 72.6 ms, total: 4.26 s\n",
      "Wall time: 4.26 s\n"
     ]
    }
   ],
   "source": [
    "%%time\n",
    "le = preprocessing.LabelEncoder()\n",
    "prokuror[\"cat_INN\"] = le.fit_transform(prokuror[\"INN\"])\n",
    "cat_job = le.transform(job)\n",
    "metalurgs[\"cat_INN\"] = le.transform(metalurgs[\"INN\"])"
   ]
  },
  {
   "cell_type": "code",
   "execution_count": 9,
   "metadata": {},
   "outputs": [
    {
     "data": {
      "text/plain": [
       "(590921, 426)"
      ]
     },
     "execution_count": 9,
     "metadata": {},
     "output_type": "execute_result"
    }
   ],
   "source": [
    "prokuror[\"cat_INN\"].nunique(), metalurgs[\"cat_INN\"].nunique()"
   ]
  },
  {
   "cell_type": "code",
   "execution_count": 10,
   "metadata": {},
   "outputs": [],
   "source": [
    "metalurgs_inn = metalurgs[\"cat_INN\"].unique()"
   ]
  },
  {
   "cell_type": "code",
   "execution_count": 11,
   "metadata": {},
   "outputs": [
    {
     "data": {
      "text/plain": [
       "(5224726, 6)"
      ]
     },
     "execution_count": 11,
     "metadata": {},
     "output_type": "execute_result"
    }
   ],
   "source": [
    "prokuror.shape"
   ]
  },
  {
   "cell_type": "code",
   "execution_count": 12,
   "metadata": {},
   "outputs": [
    {
     "data": {
      "text/plain": [
       "((4517712, 6), (8425, 6), 86)"
      ]
     },
     "execution_count": 12,
     "metadata": {},
     "output_type": "execute_result"
    }
   ],
   "source": [
    "prokuror = prokuror[prokuror[\"cat_INN\"].isin(metalurgs_inn)]\n",
    "# test_metalurgs = metalurgs[metalurgs[\"cat_INN\"].isin(cat_job)]\n",
    "metalurgs.shape, prokuror.shape, len(job)"
   ]
  },
  {
   "cell_type": "code",
   "execution_count": 13,
   "metadata": {},
   "outputs": [],
   "source": [
    "prokuror.to_csv(\"data/prokuror_only_metalurgs_all_columns.csv\")"
   ]
  },
  {
   "cell_type": "code",
   "execution_count": 14,
   "metadata": {},
   "outputs": [],
   "source": [
    "# torch.save(model, \"model/save_35.pth\")\n",
    "model = torch.load(\"model/save_35.pth\")\n",
    "model.eval()\n",
    "device = torch.device(\"cuda\") if torch.cuda.is_available() else torch.device(\"cpu\")\n",
    "tokenizer = AutoTokenizer.from_pretrained(\"DeepPavlov/rubert-base-cased\")\n",
    "model.metalurg_prob_model.dense.to(device)\n",
    "model.to(device)"
   ]
  },
  {
   "cell_type": "code",
   "execution_count": 19,
   "metadata": {},
   "outputs": [],
   "source": [
    "prokuror = pd.read_csv(\"data/prokuror_only_metalurgs.csv\")"
   ]
  },
  {
   "cell_type": "code",
   "execution_count": null,
   "metadata": {},
   "outputs": [],
   "source": [
    "arr = []\n",
    "num_split = test_metalurgs.shape[0] / 32\n",
    "for row in tqdm(np.split(test_metalurgs, num_split)):\n",
    "    sentences = row[\"line\"].values.tolist()\n",
    "    sentense_embeddings = tokenizer(\n",
    "        sentences,\n",
    "        max_length=512,\n",
    "        padding=\"max_length\",\n",
    "        truncation=True,\n",
    "        return_tensors=\"pt\",\n",
    "    )\n",
    "    embeddings = (\n",
    "        model.metalurg_prob_model.get_embedding(sentense_embeddings).cpu().numpy()\n",
    "    )  # .astype(np.float16)\n",
    "    for sentence_id, inn, embedding in zip(row.index, row[\"INN\"], embeddings):\n",
    "        arr.append({\"sentence_id\": sentence_id, \"inn\": inn, \"arr\": embedding})"
   ]
  },
  {
   "cell_type": "code",
   "execution_count": null,
   "metadata": {},
   "outputs": [],
   "source": [
    "arr = np.array(arr)\n",
    "with open(\"data/metalurgs_emb_32.npy\", \"wb\") as f:\n",
    "    np.save(f, arr)"
   ]
  },
  {
   "cell_type": "code",
   "execution_count": null,
   "metadata": {},
   "outputs": [],
   "source": [
    "arr = []\n",
    "for index, row in tqdm(test_prokuror.iterrows(), total=test_prokuror.shape[0]):\n",
    "    sentence = row[\"line\"]\n",
    "    sentense_embedding = tokenizer(\n",
    "        sentence,\n",
    "        max_length=512,\n",
    "        padding=\"max_length\",\n",
    "        truncation=True,\n",
    "        return_tensors=\"pt\",\n",
    "    )\n",
    "    embedding = (\n",
    "        model.get_embedding(sentense_embedding).cpu().numpy()\n",
    "    )  # .astype(np.float16)\n",
    "    arr.append({\"sentence_id\": index, \"inn\": row[\"INN\"], \"arr\": embedding})"
   ]
  },
  {
   "cell_type": "code",
   "execution_count": null,
   "metadata": {},
   "outputs": [],
   "source": [
    "arr = np.array(arr)\n",
    "with open(\"data/prokuror_emb_32.npy\", \"wb\") as f:\n",
    "    np.save(f, arr)"
   ]
  },
  {
   "cell_type": "code",
   "execution_count": 20,
   "metadata": {},
   "outputs": [
    {
     "name": "stderr",
     "output_type": "stream",
     "text": [
      "100%|██████████| 145/145 [00:30<00:00,  4.71it/s]\n"
     ]
    }
   ],
   "source": [
    "arr = []\n",
    "num_split = prokuror.shape[0] / 32\n",
    "for row in tqdm(np.split(prokuror, num_split)):\n",
    "    sentences = row[\"line\"].values.tolist()\n",
    "    sentense_embeddings = tokenizer(\n",
    "        sentences,\n",
    "        max_length=512,\n",
    "        padding=\"max_length\",\n",
    "        truncation=True,\n",
    "        return_tensors=\"pt\",\n",
    "    )\n",
    "    embeddings = (\n",
    "        model.get_embedding(sentense_embeddings).cpu().numpy()\n",
    "    )  # .astype(np.float16)\n",
    "    for sentence_id, inn, embedding in zip(row.index, row[\"INN\"], embeddings):\n",
    "        arr.append({\"sentence_id\": sentence_id, \"inn\": inn, \"arr\": embedding})"
   ]
  },
  {
   "cell_type": "code",
   "execution_count": 21,
   "metadata": {},
   "outputs": [],
   "source": [
    "arr = np.array(arr)\n",
    "with open(\"data/metalurgprokuror_emb_32.npy\", \"wb\") as f:\n",
    "    np.save(f, arr)"
   ]
  },
  {
   "cell_type": "markdown",
   "metadata": {},
   "source": [
    "# Compute distances"
   ]
  },
  {
   "cell_type": "markdown",
   "metadata": {},
   "source": [
    "## numba cycle"
   ]
  },
  {
   "cell_type": "code",
   "execution_count": 16,
   "metadata": {},
   "outputs": [
    {
     "name": "stdout",
     "output_type": "stream",
     "text": [
      "CPU times: user 5.38 s, sys: 3.38 s, total: 8.76 s\n",
      "Wall time: 26.7 s\n"
     ]
    }
   ],
   "source": [
    "%%time\n",
    "with open(\"data/metalurgs_emb_32.npy\", \"rb\") as f:\n",
    "    metalurg = np.load(f, allow_pickle=True)"
   ]
  },
  {
   "cell_type": "code",
   "execution_count": 73,
   "metadata": {},
   "outputs": [
    {
     "data": {
      "text/plain": [
       "(3019791,)"
      ]
     },
     "execution_count": 73,
     "metadata": {},
     "output_type": "execute_result"
    }
   ],
   "source": [
    "prokuror.shape"
   ]
  },
  {
   "cell_type": "code",
   "execution_count": 15,
   "metadata": {},
   "outputs": [
    {
     "name": "stdout",
     "output_type": "stream",
     "text": [
      "CPU times: user 14.6 ms, sys: 8.14 ms, total: 22.7 ms\n",
      "Wall time: 21.5 ms\n"
     ]
    }
   ],
   "source": [
    "%%time\n",
    "with open(\"data/allprokuror_emb_32.npy\", \"rb\") as f:\n",
    "    prokuror = np.load(f, allow_pickle=True)"
   ]
  },
  {
   "cell_type": "code",
   "execution_count": 17,
   "metadata": {},
   "outputs": [
    {
     "name": "stderr",
     "output_type": "stream",
     "text": [
      "100%|██████████| 4663/4663 [00:00<00:00, 1208479.95it/s]\n"
     ]
    }
   ],
   "source": [
    "prokuror_arr = []\n",
    "prokuror_id = []\n",
    "is_2d = len(prokuror[0][\"arr\"].shape) == 2\n",
    "for prokuror_elem in tqdm(prokuror):\n",
    "    if is_2d:\n",
    "        prokuror_arr.append(prokuror_elem[\"arr\"][0])\n",
    "    else:\n",
    "        prokuror_arr.append(prokuror_elem[\"arr\"])\n",
    "    prokuror_id.append(prokuror_elem[\"sentence_id\"])\n",
    "prokuror_arr = np.array(prokuror_arr)\n",
    "prokuror_id = np.array(prokuror_id)"
   ]
  },
  {
   "cell_type": "code",
   "execution_count": null,
   "metadata": {},
   "outputs": [],
   "source": [
    "metalurg_arr = []\n",
    "for metalurg_elem in tqdm(metalurg):\n",
    "    metalurg_arr.append(metalurg_elem[\"arr\"])\n",
    "\n",
    "metalurg_arr = np.array(metalurg_arr)"
   ]
  },
  {
   "cell_type": "code",
   "execution_count": null,
   "metadata": {},
   "outputs": [],
   "source": [
    "@jit(nopython=True, nogil=True, cache=True, fastmath=True)\n",
    "def lin(y1, y2):\n",
    "    return np.linalg.norm(y1 - y2)\n",
    "\n",
    "\n",
    "@jit(nopython=True, nogil=True, cache=True)\n",
    "def find_neighbors(metalurg_arr, prokuror_arr, prokuror_id):\n",
    "    prok_dist = np.zeros(prokuror_arr.shape[0], dtype=np.float64)\n",
    "    for i, arr in enumerate(prokuror_arr):\n",
    "        prok_dist[i] = lin(metalurg_arr, arr)\n",
    "    indexes = np.argsort(prok_dist)\n",
    "    return prok_dist[indexes][:3], prokuror_id[indexes][:3]"
   ]
  },
  {
   "cell_type": "code",
   "execution_count": null,
   "metadata": {},
   "outputs": [],
   "source": [
    "res = []\n",
    "for i, metalurg_elem in tqdm(enumerate(metalurg), total=metalurg.size):\n",
    "    distances, sentences_id = find_neighbors(metalurg_arr[i], prokuror_arr, prokuror_id)\n",
    "    for dist, sent_id in zip(distances, sentences_id):\n",
    "        res.append(\n",
    "            {\n",
    "                \"metalurg_id\": metalurg_elem[\"sentence_id\"],\n",
    "                \"metalurg_inn\": metalurg_elem[\"inn\"],\n",
    "                \"prokuror_sentence_id\": sent_id,\n",
    "                \"prokuror_distance\": dist,\n",
    "            }\n",
    "        )"
   ]
  },
  {
   "cell_type": "code",
   "execution_count": null,
   "metadata": {},
   "outputs": [],
   "source": [
    "prokuror_arr = prokuror_arr.astype(np.float16)\n",
    "metalurg_arr = metalurg_arr.astype(np.float16)"
   ]
  },
  {
   "cell_type": "code",
   "execution_count": null,
   "metadata": {},
   "outputs": [],
   "source": [
    "prokuror_arr = torch.from_numpy(prokuror_arr)\n",
    "metalurg_arr = torch.from_numpy(metalurg_arr)"
   ]
  },
  {
   "cell_type": "code",
   "execution_count": null,
   "metadata": {},
   "outputs": [],
   "source": [
    "prokuror_arr = prokuror_arr.type(torch.float16)\n",
    "metalurg_arr = metalurg_arr.type(torch.float16)"
   ]
  },
  {
   "cell_type": "code",
   "execution_count": 18,
   "metadata": {},
   "outputs": [],
   "source": [
    "prokuror_arr = torch.from_numpy(prokuror_arr).type(torch.float16)"
   ]
  },
  {
   "cell_type": "code",
   "execution_count": 20,
   "metadata": {},
   "outputs": [],
   "source": [
    "torch.save(prokuror_arr, \"data/prokuror_arr.pt\")\n",
    "torch.save(metalurg_arr, \"data/metalurg_arr.pt\")"
   ]
  },
  {
   "cell_type": "markdown",
   "metadata": {},
   "source": [
    "## Torch cycle"
   ]
  },
  {
   "cell_type": "code",
   "execution_count": 25,
   "metadata": {},
   "outputs": [
    {
     "name": "stdout",
     "output_type": "stream",
     "text": [
      "CPU times: user 6.22 s, sys: 2.66 s, total: 8.88 s\n",
      "Wall time: 26.7 s\n"
     ]
    }
   ],
   "source": [
    "%%time\n",
    "with open(\"data/metalurgs_emb_32.npy\", \"rb\") as f:\n",
    "    metalurg = np.load(f, allow_pickle=True)"
   ]
  },
  {
   "cell_type": "code",
   "execution_count": 37,
   "metadata": {},
   "outputs": [
    {
     "name": "stdout",
     "output_type": "stream",
     "text": [
      "CPU times: user 25.6 ms, sys: 18.5 ms, total: 44.1 ms\n",
      "Wall time: 230 ms\n"
     ]
    }
   ],
   "source": [
    "%%time\n",
    "with open(\"data/metalurgprokuror_emb_32.npy\", \"rb\") as f:\n",
    "    prokuror = np.load(f, allow_pickle=True)"
   ]
  },
  {
   "cell_type": "code",
   "execution_count": 38,
   "metadata": {},
   "outputs": [
    {
     "name": "stderr",
     "output_type": "stream",
     "text": [
      "100%|██████████| 4663/4663 [00:00<00:00, 1263602.50it/s]\n"
     ]
    }
   ],
   "source": [
    "prokuror_arr = []\n",
    "prokuror_id = []\n",
    "is_2d = len(prokuror[0][\"arr\"].shape) == 2\n",
    "for prokuror_elem in tqdm(prokuror):\n",
    "    if is_2d:\n",
    "        prokuror_arr.append(prokuror_elem[\"arr\"][0])\n",
    "    else:\n",
    "        prokuror_arr.append(prokuror_elem[\"arr\"])\n",
    "    prokuror_id.append(prokuror_elem[\"sentence_id\"])\n",
    "prokuror_arr = np.array(prokuror_arr)\n",
    "prokuror_id = np.array(prokuror_id)"
   ]
  },
  {
   "cell_type": "code",
   "execution_count": 39,
   "metadata": {},
   "outputs": [],
   "source": [
    "prokuror_arr = torch.from_numpy(prokuror_arr).type(torch.float16)"
   ]
  },
  {
   "cell_type": "code",
   "execution_count": 30,
   "metadata": {},
   "outputs": [
    {
     "name": "stdout",
     "output_type": "stream",
     "text": [
      "CPU times: user 38.7 ms, sys: 1.35 s, total: 1.39 s\n",
      "Wall time: 10.1 s\n"
     ]
    }
   ],
   "source": [
    "%%time\n",
    "# prokuror_arr = torch.load('data/prokuror_arr.pt')\n",
    "metalurg_arr = torch.load(\"data/metalurg_arr.pt\")"
   ]
  },
  {
   "cell_type": "code",
   "execution_count": 31,
   "metadata": {},
   "outputs": [],
   "source": [
    "@torch.jit.script\n",
    "def test_size(metalurg_arr, prokuror_arr):\n",
    "    ans = F.pairwise_distance(metalurg_arr, prokuror_arr, p=2.0).cpu().detach()\n",
    "    return ans"
   ]
  },
  {
   "cell_type": "code",
   "execution_count": 40,
   "metadata": {},
   "outputs": [],
   "source": [
    "torch.cuda.empty_cache()"
   ]
  },
  {
   "cell_type": "code",
   "execution_count": null,
   "metadata": {},
   "outputs": [
    {
     "name": "stderr",
     "output_type": "stream",
     "text": [
      " 97%|█████████▋| 908987/935699 [15:00<00:26, 1009.98it/s]"
     ]
    }
   ],
   "source": [
    "res = []\n",
    "device = torch.device(\"cuda\") if torch.cuda.is_available() else torch.device(\"cpu\")\n",
    "# sizes = [(0, 1_000_000), (1_000_000,  2_000_000), (2_000_000, 3_000_000), (3_000_000, -1)]\n",
    "# sizes = [(0, 1_500_000), (1_500_000,  3_000_000), (3_000_000, -1)]\n",
    "sizes = [(0, 1_500_000)]\n",
    "for size_i, (start, end) in enumerate(sizes):\n",
    "    dist = [[]] * metalurg_arr.shape[0]\n",
    "    ind = [[]] * metalurg_arr.shape[0]\n",
    "    prokuror_gpu = prokuror_arr[start:end].to(device)\n",
    "    for i, metalurg_elem in tqdm(enumerate(metalurg_arr), total=metalurg_arr.shape[0]):\n",
    "        tmp_dist = test_size(metalurg_elem.to(device), prokuror_gpu)\n",
    "        torch.cuda.empty_cache()\n",
    "        indexes = torch.argsort(tmp_dist)\n",
    "        dist[i] = tmp_dist[indexes][:3].tolist()\n",
    "        ind[i] = prokuror_id[indexes][:3].tolist()"
   ]
  },
  {
   "cell_type": "code",
   "execution_count": null,
   "metadata": {},
   "outputs": [],
   "source": [
    "res = []\n",
    "for distance, indexs, metalurg_elem in tqdm(zip(dist, ind, metalurg), total=len(dist)):\n",
    "    for d, i in zip(distance, indexs):\n",
    "        res.append(\n",
    "            {\n",
    "                \"metalurg_id\": metalurg_elem[\"sentence_id\"],\n",
    "                \"metalurg_inn\": metalurg_elem[\"inn\"],\n",
    "                \"prokuror_sentence_id\": i,\n",
    "                \"prokuror_distance\": d,\n",
    "            }\n",
    "        )"
   ]
  },
  {
   "cell_type": "code",
   "execution_count": null,
   "metadata": {},
   "outputs": [],
   "source": [
    "df = pd.DataFrame(res)\n",
    "df.shape"
   ]
  },
  {
   "cell_type": "code",
   "execution_count": null,
   "metadata": {},
   "outputs": [],
   "source": [
    "df.to_csv(\"prokuror_metalurg_dist.csv.zip\", compression=\"zip\")"
   ]
  },
  {
   "cell_type": "code",
   "execution_count": 10,
   "metadata": {},
   "outputs": [
    {
     "name": "stderr",
     "output_type": "stream",
     "text": [
      "  0%|          | 132/935699 [06:15<739:10:22,  2.84s/it] \n"
     ]
    },
    {
     "ename": "KeyboardInterrupt",
     "evalue": "",
     "output_type": "error",
     "traceback": [
      "\u001b[0;31m---------------------------------------------------------------------------\u001b[0m",
      "\u001b[0;31mKeyboardInterrupt\u001b[0m                         Traceback (most recent call last)",
      "\u001b[0;32m<ipython-input-10-4859967e9518>\u001b[0m in \u001b[0;36m<module>\u001b[0;34m\u001b[0m\n\u001b[1;32m      8\u001b[0m         \u001b[0msize\u001b[0m \u001b[0;34m=\u001b[0m \u001b[0mtorch\u001b[0m\u001b[0;34m.\u001b[0m\u001b[0mtensor\u001b[0m\u001b[0;34m(\u001b[0m\u001b[0;34m[\u001b[0m\u001b[0mstart\u001b[0m\u001b[0;34m,\u001b[0m \u001b[0mend\u001b[0m\u001b[0;34m]\u001b[0m\u001b[0;34m,\u001b[0m \u001b[0mdtype\u001b[0m\u001b[0;34m=\u001b[0m\u001b[0mtorch\u001b[0m\u001b[0;34m.\u001b[0m\u001b[0mint\u001b[0m\u001b[0;34m)\u001b[0m\u001b[0;34m\u001b[0m\u001b[0;34m\u001b[0m\u001b[0m\n\u001b[1;32m      9\u001b[0m         \u001b[0mtmp\u001b[0m \u001b[0;34m=\u001b[0m \u001b[0mprokuror_arr\u001b[0m\u001b[0;34m[\u001b[0m\u001b[0mstart\u001b[0m\u001b[0;34m:\u001b[0m\u001b[0mend\u001b[0m\u001b[0;34m]\u001b[0m\u001b[0;34m\u001b[0m\u001b[0;34m\u001b[0m\u001b[0m\n\u001b[0;32m---> 10\u001b[0;31m         \u001b[0mprokuror_gpu\u001b[0m \u001b[0;34m=\u001b[0m \u001b[0mtmp\u001b[0m\u001b[0;34m.\u001b[0m\u001b[0mto\u001b[0m\u001b[0;34m(\u001b[0m\u001b[0mdevice\u001b[0m\u001b[0;34m)\u001b[0m\u001b[0;34m\u001b[0m\u001b[0;34m\u001b[0m\u001b[0m\n\u001b[0m\u001b[1;32m     11\u001b[0m         \u001b[0mtest\u001b[0m \u001b[0;34m=\u001b[0m \u001b[0mtest_size\u001b[0m\u001b[0;34m(\u001b[0m\u001b[0mmetalurg_arr\u001b[0m\u001b[0;34m[\u001b[0m\u001b[0mi\u001b[0m\u001b[0;34m]\u001b[0m\u001b[0;34m.\u001b[0m\u001b[0mto\u001b[0m\u001b[0;34m(\u001b[0m\u001b[0mdevice\u001b[0m\u001b[0;34m)\u001b[0m\u001b[0;34m,\u001b[0m \u001b[0mprokuror_gpu\u001b[0m\u001b[0;34m)\u001b[0m\u001b[0;34m\u001b[0m\u001b[0;34m\u001b[0m\u001b[0m\n\u001b[1;32m     12\u001b[0m         \u001b[0mans\u001b[0m \u001b[0;34m=\u001b[0m \u001b[0mtorch\u001b[0m\u001b[0;34m.\u001b[0m\u001b[0mcat\u001b[0m\u001b[0;34m(\u001b[0m\u001b[0;34m(\u001b[0m\u001b[0mans\u001b[0m\u001b[0;34m,\u001b[0m \u001b[0mtest\u001b[0m\u001b[0;34m)\u001b[0m\u001b[0;34m)\u001b[0m\u001b[0;34m\u001b[0m\u001b[0;34m\u001b[0m\u001b[0m\n",
      "\u001b[0;31mKeyboardInterrupt\u001b[0m: "
     ]
    }
   ],
   "source": [
    "res = []\n",
    "device = torch.device(\"cuda\") if torch.cuda.is_available() else torch.device(\"cpu\")\n",
    "# sizes = [(0, 1_000_000), (1_000_000,  2_000_000), (2_000_000, 3_000_000), (3_000_000, -1)]\n",
    "sizes = [(0, 1_500_000), (1_500_000, 3_000_000), (3_000_000, -1)]\n",
    "for i, metalurg_elem in tqdm(enumerate(metalurg), total=metalurg.size):\n",
    "    ans = torch.tensor([])\n",
    "    for start, end in sizes:\n",
    "        size = torch.tensor([start, end], dtype=torch.int)\n",
    "        tmp = prokuror_arr[start:end]\n",
    "        prokuror_gpu = tmp.to(device)\n",
    "        test = test_size(metalurg_arr[i].to(device), prokuror_gpu)\n",
    "        ans = torch.cat((ans, test))\n",
    "        del prokuror_gpu, tmp\n",
    "        torch.cuda.empty_cache()\n",
    "    indexes = torch.argsort(ans)\n",
    "    for dist, sent_id in zip(ans[indexes][:3], prokuror_id[indexes][:3]):\n",
    "        res.append(\n",
    "            {\n",
    "                \"metalurg_id\": metalurg_elem[\"sentence_id\"],\n",
    "                \"metalurg_inn\": metalurg_elem[\"inn\"],\n",
    "                \"prokuror_sentence_id\": sent_id,\n",
    "                \"prokuror_distance\": dist,\n",
    "            }\n",
    "        )"
   ]
  },
  {
   "cell_type": "code",
   "execution_count": null,
   "metadata": {},
   "outputs": [],
   "source": [
    "df = pd.DataFrame(res)\n",
    "df.head()"
   ]
  },
  {
   "cell_type": "code",
   "execution_count": null,
   "metadata": {},
   "outputs": [],
   "source": [
    "df.to_csv(\"data/metalurg_dist2.csv.zip\", compression=\"zip\")"
   ]
  },
  {
   "cell_type": "markdown",
   "metadata": {},
   "source": [
    "## Test euclidean distances"
   ]
  },
  {
   "cell_type": "code",
   "execution_count": null,
   "metadata": {},
   "outputs": [],
   "source": [
    "from sklearn.metrics.pairwise import euclidean_distances\n",
    "from numba import jit\n",
    "import math\n",
    "import numpy as np"
   ]
  },
  {
   "cell_type": "code",
   "execution_count": null,
   "metadata": {},
   "outputs": [],
   "source": [
    "%%time\n",
    "with open(\"data/metalurgs_emb_32.npy\", \"rb\") as f:\n",
    "    metalurg = np.load(f, allow_pickle=True)"
   ]
  },
  {
   "cell_type": "code",
   "execution_count": null,
   "metadata": {},
   "outputs": [],
   "source": [
    "%%time\n",
    "with open(\"data/prokuror_emb_32.npy\", \"rb\") as f:\n",
    "    prokuror = np.load(f, allow_pickle=True)"
   ]
  },
  {
   "cell_type": "code",
   "execution_count": null,
   "metadata": {},
   "outputs": [],
   "source": [
    "metalurg.shape, prokuror.shape"
   ]
  },
  {
   "cell_type": "code",
   "execution_count": null,
   "metadata": {},
   "outputs": [],
   "source": [
    "metalurg_arr = metalurg[0][\"arr\"]\n",
    "prokuror_arr = prokuror[0][\"arr\"][0]"
   ]
  },
  {
   "cell_type": "code",
   "execution_count": null,
   "metadata": {},
   "outputs": [],
   "source": [
    "metalurg_arr.shape, prokuror_arr.shape"
   ]
  },
  {
   "cell_type": "code",
   "execution_count": null,
   "metadata": {},
   "outputs": [],
   "source": [
    "%timeit np.linalg.norm(metalurg_arr - prokuror_arr)"
   ]
  },
  {
   "cell_type": "code",
   "execution_count": null,
   "metadata": {},
   "outputs": [],
   "source": [
    "%timeit math.sqrt(sum([(a - b)**2 for a, b in zip(metalurg_arr, prokuror_arr)]))"
   ]
  },
  {
   "cell_type": "code",
   "execution_count": null,
   "metadata": {},
   "outputs": [],
   "source": [
    "%timeit np.sqrt(np.sum(np.power(metalurg_arr - prokuror_arr, 2)))"
   ]
  },
  {
   "cell_type": "code",
   "execution_count": null,
   "metadata": {},
   "outputs": [],
   "source": [
    "%timeit np.sqrt(np.sum((metalurg_arr - prokuror_arr)**2))"
   ]
  },
  {
   "cell_type": "code",
   "execution_count": null,
   "metadata": {},
   "outputs": [],
   "source": [
    "%timeit (np.sum((metalurg_arr - prokuror_arr)**2))"
   ]
  },
  {
   "cell_type": "code",
   "execution_count": null,
   "metadata": {},
   "outputs": [],
   "source": [
    "v1 = [metalurg_arr]\n",
    "v2 = [prokuror_arr]"
   ]
  },
  {
   "cell_type": "code",
   "execution_count": null,
   "metadata": {},
   "outputs": [],
   "source": [
    "%timeit euclidean_distances(v1, v2)"
   ]
  },
  {
   "cell_type": "code",
   "execution_count": null,
   "metadata": {},
   "outputs": [],
   "source": [
    "@jit(nopython=True)\n",
    "def jit_linalg(y1, y2):\n",
    "    return np.linalg.norm(y1 - y2)"
   ]
  },
  {
   "cell_type": "code",
   "execution_count": null,
   "metadata": {},
   "outputs": [],
   "source": [
    "%timeit jit_linalg(metalurg_arr, prokuror_arr)"
   ]
  },
  {
   "cell_type": "code",
   "execution_count": null,
   "metadata": {},
   "outputs": [],
   "source": [
    "%timeit sum((metalurg_arr - prokuror_arr)**2)"
   ]
  },
  {
   "cell_type": "code",
   "execution_count": null,
   "metadata": {},
   "outputs": [],
   "source": [
    "%timeit ((metalurg_arr - prokuror_arr)**2).sum()"
   ]
  },
  {
   "cell_type": "code",
   "execution_count": null,
   "metadata": {},
   "outputs": [],
   "source": [
    "@jit(nopython=True)\n",
    "def test_jit_sum(y1, y2):\n",
    "    return ((y1 - y2) ** 2).sum()"
   ]
  },
  {
   "cell_type": "code",
   "execution_count": null,
   "metadata": {},
   "outputs": [],
   "source": [
    "test_jit_sum(metalurg_arr, prokuror_arr)"
   ]
  },
  {
   "cell_type": "code",
   "execution_count": null,
   "metadata": {},
   "outputs": [],
   "source": [
    "%timeit test_jit_sum(metalurg_arr, prokuror_arr)"
   ]
  },
  {
   "cell_type": "code",
   "execution_count": null,
   "metadata": {},
   "outputs": [],
   "source": [
    "@jit(nopython=True)\n",
    "def test_jit_sum_square(y1, y2):\n",
    "    return (np.power(y1 - y2, 2)).sum()"
   ]
  },
  {
   "cell_type": "code",
   "execution_count": null,
   "metadata": {},
   "outputs": [],
   "source": [
    "test_jit_sum_square(metalurg_arr, prokuror_arr)"
   ]
  },
  {
   "cell_type": "code",
   "execution_count": null,
   "metadata": {},
   "outputs": [],
   "source": [
    "%timeit test_jit_sum_square(metalurg_arr, prokuror_arr)"
   ]
  },
  {
   "cell_type": "code",
   "execution_count": null,
   "metadata": {},
   "outputs": [],
   "source": [
    "prokuror_arr = []\n",
    "prokuror_id = []\n",
    "for prokuror_elem in prokuror:\n",
    "    prokuror_arr.append(prokuror_elem[\"arr\"])\n",
    "    prokuror_id.append(prokuror_elem[\"sentence_id\"])"
   ]
  },
  {
   "cell_type": "code",
   "execution_count": null,
   "metadata": {},
   "outputs": [],
   "source": [
    "metalurg_arr = np.array(metalurg[0][\"arr\"])\n",
    "prokuror_arr = np.array(prokuror_arr)\n",
    "prokuror_id = np.array(prokuror_id)"
   ]
  },
  {
   "cell_type": "code",
   "execution_count": null,
   "metadata": {},
   "outputs": [],
   "source": [
    "def original(metalurg_arr, prokuror_arr, prokuror_id):\n",
    "    prok_dist = []\n",
    "    for prokuror_elem, id in zip(prokuror_arr, prokuror_id):\n",
    "        distance = np.linalg.norm(metalurg_arr - prokuror_elem[0])\n",
    "        prok_dist.append({\"sent\": id, \"dist\": distance})\n",
    "    sorted(prok_dist, key=lambda x: x[\"dist\"])[:3]"
   ]
  },
  {
   "cell_type": "code",
   "execution_count": null,
   "metadata": {},
   "outputs": [],
   "source": [
    "@jit(nopython=True, nogil=True, cache=True, fastmath=True)\n",
    "def linalg(y1, y2):\n",
    "    return np.linalg.norm(y1 - y2)\n",
    "\n",
    "\n",
    "def numba_v1(metalurg_arr, prokuror_arr, prokuror_id):\n",
    "    prok_dist = []\n",
    "    for prokuror_elem, id in zip(prokuror_arr, prokuror_id):\n",
    "        distance = linalg(metalurg_arr, prokuror_elem[0])\n",
    "        prok_dist.append({\"sent\": id, \"dist\": distance})\n",
    "    sorted(prok_dist, key=lambda x: x[\"dist\"])[:3]\n",
    "\n",
    "\n",
    "linalg(np.array([1.0, 2.0, 3.0]), np.array([1.0, 2.0, 3.0]))  # compile"
   ]
  },
  {
   "cell_type": "code",
   "execution_count": null,
   "metadata": {},
   "outputs": [],
   "source": [
    "@jit(nopython=True, nogil=True, cache=True)\n",
    "def test_cycle(metalurg_arr, prokuror_arr, prokuror_id):\n",
    "    prok_dist = np.zeros(prokuror_arr.shape[0], dtype=np.float64)\n",
    "    for i, arr in enumerate(prokuror_arr):\n",
    "        prok_dist[i] = np.linalg.norm(metalurg_arr - arr[0])\n",
    "    indexes = np.argsort(prok_dist)\n",
    "    return prok_dist[indexes][:3], prokuror_id[indexes][:3]\n",
    "\n",
    "\n",
    "test_cycle(\n",
    "    np.array([1.0, 2.0, 3.0]), np.array([[1.0], [2.0], [3.0]]), np.array([1, 2, 3, 4])\n",
    ")  # compile"
   ]
  },
  {
   "cell_type": "code",
   "execution_count": null,
   "metadata": {},
   "outputs": [],
   "source": [
    "@jit(nopython=True, nogil=True, cache=True)\n",
    "def numba_in_numba(metalurg_arr, prokuror_arr, prokuror_id):\n",
    "    prok_dist = np.zeros(prokuror_arr.shape[0], dtype=np.float64)\n",
    "    for i, arr in enumerate(prokuror_arr):\n",
    "        prok_dist[i] = linalg(metalurg_arr, arr[0])\n",
    "    indexes = np.argsort(prok_dist)\n",
    "    return prok_dist[indexes][:3], prokuror_id[indexes][:3]\n",
    "\n",
    "\n",
    "numba_in_numba(\n",
    "    np.array([1.0, 2.0, 3.0]), np.array([[1.0], [2.0], [3.0]]), np.array([1, 2, 3, 4])\n",
    ")  # compile"
   ]
  },
  {
   "cell_type": "code",
   "execution_count": null,
   "metadata": {},
   "outputs": [],
   "source": [
    "%timeit original(metalurg_arr, prokuror_arr, prokuror_id)\n",
    "%timeit numba_v1(metalurg_arr, prokuror_arr, prokuror_id)\n",
    "%timeit test_cycle(metalurg_arr, prokuror_arr, prokuror_id)\n",
    "%timeit numba_in_numba(metalurg_arr, prokuror_arr, prokuror_id)"
   ]
  },
  {
   "cell_type": "code",
   "execution_count": null,
   "metadata": {},
   "outputs": [],
   "source": [
    "# 1000 prokuror_arr on cuda\n",
    "\n",
    "%timeit F.pairwise_distance(metalurg_arr[0].to(device), prokuror_arr, p=2)"
   ]
  },
  {
   "cell_type": "code",
   "execution_count": null,
   "metadata": {},
   "outputs": [],
   "source": [
    "# 1000 prokuror_arr\n",
    "\n",
    "%timeit find_neighbors(metalurg_a, test, test_id)"
   ]
  },
  {
   "cell_type": "markdown",
   "metadata": {},
   "source": [
    "## Other"
   ]
  },
  {
   "cell_type": "code",
   "execution_count": null,
   "metadata": {},
   "outputs": [],
   "source": [
    "df = pd.read_csv(\"data/metalurg_dist2.csv.zip\", compression=\"zip\", index_col=0)"
   ]
  },
  {
   "cell_type": "code",
   "execution_count": null,
   "metadata": {},
   "outputs": [],
   "source": [
    "df.head()"
   ]
  },
  {
   "cell_type": "code",
   "execution_count": null,
   "metadata": {},
   "outputs": [],
   "source": [
    "df[\"prokuror_distance\"].quantile([i / 10 for i in range(10)])"
   ]
  },
  {
   "cell_type": "code",
   "execution_count": null,
   "metadata": {},
   "outputs": [],
   "source": []
  }
 ],
 "metadata": {
  "kernelspec": {
   "display_name": "Python [conda env:jupyterbase]",
   "language": "python",
   "name": "conda-env-jupyterbase-py"
  },
  "language_info": {
   "codemirror_mode": {
    "name": "ipython",
    "version": 3
   },
   "file_extension": ".py",
   "mimetype": "text/x-python",
   "name": "python",
   "nbconvert_exporter": "python",
   "pygments_lexer": "ipython3",
   "version": "3.8.8"
  }
 },
 "nbformat": 4,
 "nbformat_minor": 4
}
