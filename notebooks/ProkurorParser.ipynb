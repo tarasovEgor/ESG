{
 "cells": [
  {
   "cell_type": "code",
   "execution_count": 1,
   "metadata": {},
   "outputs": [],
   "source": [
    "import pandas as pd\n",
    "import numpy as np\n",
    "from tqdm import tqdm\n",
    "import re\n",
    "\n",
    "tqdm.pandas()"
   ]
  },
  {
   "cell_type": "markdown",
   "metadata": {},
   "source": [
    "# result_1.csv"
   ]
  },
  {
   "cell_type": "code",
   "execution_count": 2,
   "metadata": {},
   "outputs": [],
   "source": [
    "prokuror_df1 = pd.read_csv(\n",
    "    \"/home/rsolomatin/metalurgi/site-prokuror/prokuror/result_1.csv\", index_col=0\n",
    ")"
   ]
  },
  {
   "cell_type": "code",
   "execution_count": 3,
   "metadata": {},
   "outputs": [
    {
     "data": {
      "text/html": [
       "<div>\n",
       "<style scoped>\n",
       "    .dataframe tbody tr th:only-of-type {\n",
       "        vertical-align: middle;\n",
       "    }\n",
       "\n",
       "    .dataframe tbody tr th {\n",
       "        vertical-align: top;\n",
       "    }\n",
       "\n",
       "    .dataframe thead th {\n",
       "        text-align: right;\n",
       "    }\n",
       "</style>\n",
       "<table border=\"1\" class=\"dataframe\">\n",
       "  <thead>\n",
       "    <tr style=\"text-align: right;\">\n",
       "      <th></th>\n",
       "      <th>DATE</th>\n",
       "      <th>INN</th>\n",
       "      <th>OGRN</th>\n",
       "      <th>OKVEDS</th>\n",
       "      <th>REASON</th>\n",
       "      <th>WARNING_INFO</th>\n",
       "      <th>ACTION_INFO</th>\n",
       "    </tr>\n",
       "  </thead>\n",
       "  <tbody>\n",
       "    <tr>\n",
       "      <th>0</th>\n",
       "      <td>2021-10-16</td>\n",
       "      <td>7325142233</td>\n",
       "      <td>1.167325e+12</td>\n",
       "      <td>[('56.10', 'Деятельность ресторанов и услуги п...</td>\n",
       "      <td>[('(ФЗ 248) Наличие у контрольного (надзорного...</td>\n",
       "      <td>Обеспечить начисление месячной заработной плат...</td>\n",
       "      <td>NaN</td>\n",
       "    </tr>\n",
       "    <tr>\n",
       "      <th>1</th>\n",
       "      <td>2021-10-16</td>\n",
       "      <td>7325143371</td>\n",
       "      <td>1.167325e+12</td>\n",
       "      <td>[('56.10', 'Деятельность ресторанов и услуги п...</td>\n",
       "      <td>[('(ФЗ 248) Наличие у контрольного (надзорного...</td>\n",
       "      <td>Обеспечить начисление месячной заработной плат...</td>\n",
       "      <td>NaN</td>\n",
       "    </tr>\n",
       "    <tr>\n",
       "      <th>2</th>\n",
       "      <td>2021-10-16</td>\n",
       "      <td>5610096550</td>\n",
       "      <td>1.065610e+12</td>\n",
       "      <td>[('49.4', 'Деятельность автомобильного грузово...</td>\n",
       "      <td>[('(ФЗ 248) Наличие у контрольного (надзорного...</td>\n",
       "      <td>Принять меры по оснащению транспортного средст...</td>\n",
       "      <td>NaN</td>\n",
       "    </tr>\n",
       "    <tr>\n",
       "      <th>3</th>\n",
       "      <td>2021-10-16</td>\n",
       "      <td>7325145749</td>\n",
       "      <td>1.167325e+12</td>\n",
       "      <td>[('46.51', 'Торговля оптовая компьютерами, пер...</td>\n",
       "      <td>[('(ФЗ 248) Наличие у контрольного (надзорного...</td>\n",
       "      <td>Обеспечить начисление месячной заработной плат...</td>\n",
       "      <td>NaN</td>\n",
       "    </tr>\n",
       "    <tr>\n",
       "      <th>4</th>\n",
       "      <td>2021-10-16</td>\n",
       "      <td>7325145925</td>\n",
       "      <td>1.167325e+12</td>\n",
       "      <td>[('41.20', 'Строительство жилых и нежилых здан...</td>\n",
       "      <td>[('(ФЗ 248) Наличие у контрольного (надзорного...</td>\n",
       "      <td>Обеспечить начисление месячной заработной плат...</td>\n",
       "      <td>NaN</td>\n",
       "    </tr>\n",
       "  </tbody>\n",
       "</table>\n",
       "</div>"
      ],
      "text/plain": [
       "         DATE         INN          OGRN  \\\n",
       "0  2021-10-16  7325142233  1.167325e+12   \n",
       "1  2021-10-16  7325143371  1.167325e+12   \n",
       "2  2021-10-16  5610096550  1.065610e+12   \n",
       "3  2021-10-16  7325145749  1.167325e+12   \n",
       "4  2021-10-16  7325145925  1.167325e+12   \n",
       "\n",
       "                                              OKVEDS  \\\n",
       "0  [('56.10', 'Деятельность ресторанов и услуги п...   \n",
       "1  [('56.10', 'Деятельность ресторанов и услуги п...   \n",
       "2  [('49.4', 'Деятельность автомобильного грузово...   \n",
       "3  [('46.51', 'Торговля оптовая компьютерами, пер...   \n",
       "4  [('41.20', 'Строительство жилых и нежилых здан...   \n",
       "\n",
       "                                              REASON  \\\n",
       "0  [('(ФЗ 248) Наличие у контрольного (надзорного...   \n",
       "1  [('(ФЗ 248) Наличие у контрольного (надзорного...   \n",
       "2  [('(ФЗ 248) Наличие у контрольного (надзорного...   \n",
       "3  [('(ФЗ 248) Наличие у контрольного (надзорного...   \n",
       "4  [('(ФЗ 248) Наличие у контрольного (надзорного...   \n",
       "\n",
       "                                        WARNING_INFO ACTION_INFO  \n",
       "0  Обеспечить начисление месячной заработной плат...         NaN  \n",
       "1  Обеспечить начисление месячной заработной плат...         NaN  \n",
       "2  Принять меры по оснащению транспортного средст...         NaN  \n",
       "3  Обеспечить начисление месячной заработной плат...         NaN  \n",
       "4  Обеспечить начисление месячной заработной плат...         NaN  "
      ]
     },
     "execution_count": 3,
     "metadata": {},
     "output_type": "execute_result"
    }
   ],
   "source": [
    "prokuror_df1.head()"
   ]
  },
  {
   "cell_type": "code",
   "execution_count": 4,
   "metadata": {},
   "outputs": [],
   "source": [
    "def get_reason(prokuror_row, col=None):\n",
    "    if prokuror_row[col] == \"[]\":\n",
    "        return \"\"\n",
    "    if col == \"OKVEDS\":\n",
    "        text = eval(prokuror_row[\"OKVEDS\"])[0][1]\n",
    "    else:\n",
    "        text = eval(prokuror_row[\"REASON\"])[0][0]\n",
    "    text = re.sub(\"\\n\", \" \", text)\n",
    "    text = re.sub(\"\\.\\.\\.\", \"\", text)\n",
    "    return text"
   ]
  },
  {
   "cell_type": "code",
   "execution_count": 5,
   "metadata": {},
   "outputs": [
    {
     "name": "stderr",
     "output_type": "stream",
     "text": [
      "100%|██████████| 976216/976216 [00:29<00:00, 33518.72it/s]\n",
      "100%|██████████| 976216/976216 [00:33<00:00, 28748.97it/s]\n"
     ]
    }
   ],
   "source": [
    "prokuror_df1[\"OKVEDS\"] = prokuror_df1.progress_apply(get_reason, axis=1, col=\"OKVEDS\")\n",
    "prokuror_df1[\"REASON\"] = prokuror_df1.progress_apply(get_reason, axis=1, col=\"REASON\")"
   ]
  },
  {
   "cell_type": "code",
   "execution_count": 6,
   "metadata": {},
   "outputs": [
    {
     "data": {
      "text/html": [
       "<div>\n",
       "<style scoped>\n",
       "    .dataframe tbody tr th:only-of-type {\n",
       "        vertical-align: middle;\n",
       "    }\n",
       "\n",
       "    .dataframe tbody tr th {\n",
       "        vertical-align: top;\n",
       "    }\n",
       "\n",
       "    .dataframe thead th {\n",
       "        text-align: right;\n",
       "    }\n",
       "</style>\n",
       "<table border=\"1\" class=\"dataframe\">\n",
       "  <thead>\n",
       "    <tr style=\"text-align: right;\">\n",
       "      <th></th>\n",
       "      <th>DATE</th>\n",
       "      <th>INN</th>\n",
       "      <th>OGRN</th>\n",
       "      <th>OKVEDS</th>\n",
       "      <th>REASON</th>\n",
       "      <th>WARNING_INFO</th>\n",
       "      <th>ACTION_INFO</th>\n",
       "    </tr>\n",
       "  </thead>\n",
       "  <tbody>\n",
       "    <tr>\n",
       "      <th>0</th>\n",
       "      <td>2021-10-16</td>\n",
       "      <td>7325142233</td>\n",
       "      <td>1.167325e+12</td>\n",
       "      <td>Деятельность ресторанов и услуги по доставке п...</td>\n",
       "      <td>(ФЗ 248) Наличие у контрольного (надзорного) о...</td>\n",
       "      <td>Обеспечить начисление месячной заработной плат...</td>\n",
       "      <td>NaN</td>\n",
       "    </tr>\n",
       "    <tr>\n",
       "      <th>1</th>\n",
       "      <td>2021-10-16</td>\n",
       "      <td>7325143371</td>\n",
       "      <td>1.167325e+12</td>\n",
       "      <td>Деятельность ресторанов и услуги по доставке п...</td>\n",
       "      <td>(ФЗ 248) Наличие у контрольного (надзорного) о...</td>\n",
       "      <td>Обеспечить начисление месячной заработной плат...</td>\n",
       "      <td>NaN</td>\n",
       "    </tr>\n",
       "    <tr>\n",
       "      <th>2</th>\n",
       "      <td>2021-10-16</td>\n",
       "      <td>5610096550</td>\n",
       "      <td>1.065610e+12</td>\n",
       "      <td>Деятельность автомобильного грузового транспор...</td>\n",
       "      <td>(ФЗ 248) Наличие у контрольного (надзорного) о...</td>\n",
       "      <td>Принять меры по оснащению транспортного средст...</td>\n",
       "      <td>NaN</td>\n",
       "    </tr>\n",
       "    <tr>\n",
       "      <th>3</th>\n",
       "      <td>2021-10-16</td>\n",
       "      <td>7325145749</td>\n",
       "      <td>1.167325e+12</td>\n",
       "      <td>Торговля оптовая компьютерами, периферийными у...</td>\n",
       "      <td>(ФЗ 248) Наличие у контрольного (надзорного) о...</td>\n",
       "      <td>Обеспечить начисление месячной заработной плат...</td>\n",
       "      <td>NaN</td>\n",
       "    </tr>\n",
       "    <tr>\n",
       "      <th>4</th>\n",
       "      <td>2021-10-16</td>\n",
       "      <td>7325145925</td>\n",
       "      <td>1.167325e+12</td>\n",
       "      <td>Строительство жилых и нежилых зданий</td>\n",
       "      <td>(ФЗ 248) Наличие у контрольного (надзорного) о...</td>\n",
       "      <td>Обеспечить начисление месячной заработной плат...</td>\n",
       "      <td>NaN</td>\n",
       "    </tr>\n",
       "  </tbody>\n",
       "</table>\n",
       "</div>"
      ],
      "text/plain": [
       "         DATE         INN          OGRN  \\\n",
       "0  2021-10-16  7325142233  1.167325e+12   \n",
       "1  2021-10-16  7325143371  1.167325e+12   \n",
       "2  2021-10-16  5610096550  1.065610e+12   \n",
       "3  2021-10-16  7325145749  1.167325e+12   \n",
       "4  2021-10-16  7325145925  1.167325e+12   \n",
       "\n",
       "                                              OKVEDS  \\\n",
       "0  Деятельность ресторанов и услуги по доставке п...   \n",
       "1  Деятельность ресторанов и услуги по доставке п...   \n",
       "2  Деятельность автомобильного грузового транспор...   \n",
       "3  Торговля оптовая компьютерами, периферийными у...   \n",
       "4               Строительство жилых и нежилых зданий   \n",
       "\n",
       "                                              REASON  \\\n",
       "0  (ФЗ 248) Наличие у контрольного (надзорного) о...   \n",
       "1  (ФЗ 248) Наличие у контрольного (надзорного) о...   \n",
       "2  (ФЗ 248) Наличие у контрольного (надзорного) о...   \n",
       "3  (ФЗ 248) Наличие у контрольного (надзорного) о...   \n",
       "4  (ФЗ 248) Наличие у контрольного (надзорного) о...   \n",
       "\n",
       "                                        WARNING_INFO ACTION_INFO  \n",
       "0  Обеспечить начисление месячной заработной плат...         NaN  \n",
       "1  Обеспечить начисление месячной заработной плат...         NaN  \n",
       "2  Принять меры по оснащению транспортного средст...         NaN  \n",
       "3  Обеспечить начисление месячной заработной плат...         NaN  \n",
       "4  Обеспечить начисление месячной заработной плат...         NaN  "
      ]
     },
     "execution_count": 6,
     "metadata": {},
     "output_type": "execute_result"
    }
   ],
   "source": [
    "prokuror_df1.head()"
   ]
  },
  {
   "cell_type": "markdown",
   "metadata": {},
   "source": [
    "# result_2.csv"
   ]
  },
  {
   "cell_type": "code",
   "execution_count": 7,
   "metadata": {},
   "outputs": [
    {
     "name": "stderr",
     "output_type": "stream",
     "text": [
      "<ipython-input-7-f95cd3009426>:1: DtypeWarning: Columns (2,3) have mixed types. Specify dtype option on import or set low_memory=False.\n",
      "  prokuror_df2 = pd.read_csv(\"/home/rsolomatin/metalurgi/site-prokuror/prokuror/result_2.csv\", index_col=0)\n"
     ]
    },
    {
     "data": {
      "text/html": [
       "<div>\n",
       "<style scoped>\n",
       "    .dataframe tbody tr th:only-of-type {\n",
       "        vertical-align: middle;\n",
       "    }\n",
       "\n",
       "    .dataframe tbody tr th {\n",
       "        vertical-align: top;\n",
       "    }\n",
       "\n",
       "    .dataframe thead th {\n",
       "        text-align: right;\n",
       "    }\n",
       "</style>\n",
       "<table border=\"1\" class=\"dataframe\">\n",
       "  <thead>\n",
       "    <tr style=\"text-align: right;\">\n",
       "      <th></th>\n",
       "      <th>DATE</th>\n",
       "      <th>INN</th>\n",
       "      <th>OGRN</th>\n",
       "      <th>VIOLATIONS</th>\n",
       "      <th>CLASSIF_LB</th>\n",
       "      <th>RESULT_INFO</th>\n",
       "      <th>CARRY_OUT_EVENTS</th>\n",
       "    </tr>\n",
       "  </thead>\n",
       "  <tbody>\n",
       "    <tr>\n",
       "      <th>0</th>\n",
       "      <td>2021-04-22</td>\n",
       "      <td>1431007235</td>\n",
       "      <td>1021400944245</td>\n",
       "      <td>[]</td>\n",
       "      <td>[]</td>\n",
       "      <td>[]</td>\n",
       "      <td>['рассмотреть представленные застройщиком, тех...</td>\n",
       "    </tr>\n",
       "    <tr>\n",
       "      <th>1</th>\n",
       "      <td>2021-04-22</td>\n",
       "      <td>2461038874</td>\n",
       "      <td>1172468053647</td>\n",
       "      <td>[('абз. 5 ч. 1 ст. 21 ТК РФ ст. 136 ТК РФ\\nст....</td>\n",
       "      <td>['ТК РФ']</td>\n",
       "      <td>[]</td>\n",
       "      <td>['Рассмотреть документы юридического лица согл...</td>\n",
       "    </tr>\n",
       "    <tr>\n",
       "      <th>2</th>\n",
       "      <td>2021-04-22</td>\n",
       "      <td>2465306186</td>\n",
       "      <td>1142468004800</td>\n",
       "      <td>[]</td>\n",
       "      <td>['ТК РФ']</td>\n",
       "      <td>[]</td>\n",
       "      <td>['Рассмотреть документы юридического лица согл...</td>\n",
       "    </tr>\n",
       "    <tr>\n",
       "      <th>3</th>\n",
       "      <td>2021-04-22</td>\n",
       "      <td>6725008449</td>\n",
       "      <td>1026700927747</td>\n",
       "      <td>[('- директором школы разработана и утверждена...</td>\n",
       "      <td>['Пункт 3 части 2 статьи 10 Федерального закон...</td>\n",
       "      <td>[('Сведения об ознакомлении или отказе ознаком...</td>\n",
       "      <td>['1. рассмотрение документов лиц, подлежащих п...</td>\n",
       "    </tr>\n",
       "    <tr>\n",
       "      <th>4</th>\n",
       "      <td>2021-04-22</td>\n",
       "      <td>6514008993</td>\n",
       "      <td>1116507000191</td>\n",
       "      <td>[('ФЗ от 21.04.2014 №209-ФЗ; Приказ Минкомсвяз...</td>\n",
       "      <td>['Жилищный кодекс Российской Федерации']</td>\n",
       "      <td>[('Сведения об ознакомлении или отказе ознаком...</td>\n",
       "      <td>['- изучение размещенной информации в ГИС ЖКХ....</td>\n",
       "    </tr>\n",
       "  </tbody>\n",
       "</table>\n",
       "</div>"
      ],
      "text/plain": [
       "         DATE         INN           OGRN  \\\n",
       "0  2021-04-22  1431007235  1021400944245   \n",
       "1  2021-04-22  2461038874  1172468053647   \n",
       "2  2021-04-22  2465306186  1142468004800   \n",
       "3  2021-04-22  6725008449  1026700927747   \n",
       "4  2021-04-22  6514008993  1116507000191   \n",
       "\n",
       "                                          VIOLATIONS  \\\n",
       "0                                                 []   \n",
       "1  [('абз. 5 ч. 1 ст. 21 ТК РФ ст. 136 ТК РФ\\nст....   \n",
       "2                                                 []   \n",
       "3  [('- директором школы разработана и утверждена...   \n",
       "4  [('ФЗ от 21.04.2014 №209-ФЗ; Приказ Минкомсвяз...   \n",
       "\n",
       "                                          CLASSIF_LB  \\\n",
       "0                                                 []   \n",
       "1                                          ['ТК РФ']   \n",
       "2                                          ['ТК РФ']   \n",
       "3  ['Пункт 3 части 2 статьи 10 Федерального закон...   \n",
       "4           ['Жилищный кодекс Российской Федерации']   \n",
       "\n",
       "                                         RESULT_INFO  \\\n",
       "0                                                 []   \n",
       "1                                                 []   \n",
       "2                                                 []   \n",
       "3  [('Сведения об ознакомлении или отказе ознаком...   \n",
       "4  [('Сведения об ознакомлении или отказе ознаком...   \n",
       "\n",
       "                                    CARRY_OUT_EVENTS  \n",
       "0  ['рассмотреть представленные застройщиком, тех...  \n",
       "1  ['Рассмотреть документы юридического лица согл...  \n",
       "2  ['Рассмотреть документы юридического лица согл...  \n",
       "3  ['1. рассмотрение документов лиц, подлежащих п...  \n",
       "4  ['- изучение размещенной информации в ГИС ЖКХ....  "
      ]
     },
     "execution_count": 7,
     "metadata": {},
     "output_type": "execute_result"
    }
   ],
   "source": [
    "prokuror_df2 = pd.read_csv(\n",
    "    \"/home/rsolomatin/metalurgi/site-prokuror/prokuror/result_2.csv\", index_col=0\n",
    ")\n",
    "prokuror_df2.head()"
   ]
  },
  {
   "cell_type": "code",
   "execution_count": 10,
   "metadata": {},
   "outputs": [],
   "source": [
    "def parse_row(row, col=None):\n",
    "    if row[col] == \"[]\":\n",
    "        return \"\"\n",
    "    row_val = eval(row[col])\n",
    "    if row[col][1] == \"(\":\n",
    "        row_val = row_val[0]\n",
    "    return_str = \"\"\n",
    "    for text in row_val:\n",
    "        text = re.sub(\"\\n\", \" \", text)\n",
    "        text = re.sub(\"\\.\\.\\.\", \"\", text)\n",
    "        return_str += text\n",
    "    return return_str.strip()"
   ]
  },
  {
   "cell_type": "code",
   "execution_count": 11,
   "metadata": {},
   "outputs": [
    {
     "name": "stderr",
     "output_type": "stream",
     "text": [
      "100%|██████████| 527727/527727 [00:26<00:00, 19960.71it/s]\n",
      "100%|██████████| 527727/527727 [00:28<00:00, 18654.99it/s]\n",
      "100%|██████████| 527727/527727 [00:20<00:00, 25142.10it/s]\n",
      "100%|██████████| 527727/527727 [00:28<00:00, 18386.32it/s]\n"
     ]
    }
   ],
   "source": [
    "for col in [\"VIOLATIONS\", \"CLASSIF_LB\", \"RESULT_INFO\", \"CARRY_OUT_EVENTS\"]:\n",
    "    prokuror_df2[col] = prokuror_df2.progress_apply(parse_row, axis=1, col=col)"
   ]
  },
  {
   "cell_type": "code",
   "execution_count": 12,
   "metadata": {},
   "outputs": [],
   "source": [
    "def parse_inn(row):\n",
    "    inn = row[\"INN\"]\n",
    "    if type(inn) == float or type(inn) == int:\n",
    "        return inn\n",
    "    if inn == \"-\" or inn == \"\" or inn is np.nan or inn is None:\n",
    "        return np.nan\n",
    "    inn = inn.strip()\n",
    "    if inn.isnumeric():\n",
    "        return int(inn)\n",
    "    inn = re.sub(\"ИНН\", \"\", inn)\n",
    "    inn = re.sub(\"_\", \"\", inn)\n",
    "    inn = re.sub(\".\", \"\", inn)\n",
    "    inn = re.sub(\"ё\", \"\", inn)\n",
    "    arr = inn.strip().split()\n",
    "    if len(arr) == 0:\n",
    "        return np.nan\n",
    "    for elem in arr:\n",
    "        if elem.isnumeric() or elem[:-1].isnumeric():\n",
    "            return int(elem)\n",
    "    if elem is str:\n",
    "        return np.nan"
   ]
  },
  {
   "cell_type": "code",
   "execution_count": 13,
   "metadata": {},
   "outputs": [
    {
     "name": "stderr",
     "output_type": "stream",
     "text": [
      "100%|██████████| 527727/527727 [00:06<00:00, 83648.56it/s]\n"
     ]
    }
   ],
   "source": [
    "prokuror_df2[\"INN\"] = prokuror_df2.progress_apply(parse_inn, axis=1)"
   ]
  },
  {
   "cell_type": "code",
   "execution_count": 14,
   "metadata": {},
   "outputs": [],
   "source": [
    "prokuror_df2.loc[prokuror_df2[\"INN\"] > 1e14, \"INN\"] = np.nan\n",
    "prokuror_df2[\"INN\"] = prokuror_df2[\"INN\"].fillna(0).astype(np.int64)"
   ]
  },
  {
   "cell_type": "code",
   "execution_count": 15,
   "metadata": {},
   "outputs": [
    {
     "data": {
      "text/html": [
       "<div>\n",
       "<style scoped>\n",
       "    .dataframe tbody tr th:only-of-type {\n",
       "        vertical-align: middle;\n",
       "    }\n",
       "\n",
       "    .dataframe tbody tr th {\n",
       "        vertical-align: top;\n",
       "    }\n",
       "\n",
       "    .dataframe thead th {\n",
       "        text-align: right;\n",
       "    }\n",
       "</style>\n",
       "<table border=\"1\" class=\"dataframe\">\n",
       "  <thead>\n",
       "    <tr style=\"text-align: right;\">\n",
       "      <th></th>\n",
       "      <th>DATE</th>\n",
       "      <th>INN</th>\n",
       "      <th>OGRN</th>\n",
       "      <th>VIOLATIONS</th>\n",
       "      <th>CLASSIF_LB</th>\n",
       "      <th>RESULT_INFO</th>\n",
       "      <th>CARRY_OUT_EVENTS</th>\n",
       "    </tr>\n",
       "  </thead>\n",
       "  <tbody>\n",
       "    <tr>\n",
       "      <th>527722</th>\n",
       "      <td>2021-09-19</td>\n",
       "      <td>4024007517</td>\n",
       "      <td>1034004100558.0</td>\n",
       "      <td></td>\n",
       "      <td></td>\n",
       "      <td></td>\n",
       "      <td>1 Проверить качество предоставления коммунальн...</td>\n",
       "    </tr>\n",
       "    <tr>\n",
       "      <th>527723</th>\n",
       "      <td>2021-09-19</td>\n",
       "      <td>5032247578</td>\n",
       "      <td>1125032000675.0</td>\n",
       "      <td>9101155 не приняты меры для очередной поверки ...</td>\n",
       "      <td>Федеральный закон от 26 декабря 2008 г. № 294-...</td>\n",
       "      <td></td>\n",
       "      <td>Проверка соблюдения лицензиатом лицензионных т...</td>\n",
       "    </tr>\n",
       "    <tr>\n",
       "      <th>527724</th>\n",
       "      <td>2021-09-19</td>\n",
       "      <td>4023010813</td>\n",
       "      <td>1144023000208.0</td>\n",
       "      <td></td>\n",
       "      <td>Федеральный закон от 26 декабря 2008 г. № 294-...</td>\n",
       "      <td></td>\n",
       "      <td>Проверить техническое состояние многоквартирно...</td>\n",
       "    </tr>\n",
       "    <tr>\n",
       "      <th>527725</th>\n",
       "      <td>2021-09-19</td>\n",
       "      <td>4024007517</td>\n",
       "      <td>1034004100558.0</td>\n",
       "      <td></td>\n",
       "      <td>Федеральный закон от 26 декабря 2008 г. № 294-...</td>\n",
       "      <td></td>\n",
       "      <td>Проверить качество предоставления коммунальной...</td>\n",
       "    </tr>\n",
       "    <tr>\n",
       "      <th>527726</th>\n",
       "      <td>2021-09-19</td>\n",
       "      <td>5032199740</td>\n",
       "      <td>1085032325542.0</td>\n",
       "      <td>9101810 Ненадлежащее содержание общего имущест...</td>\n",
       "      <td>Федеральный закон от 26 декабря 2008 г. № 294-...</td>\n",
       "      <td></td>\n",
       "      <td>Проверка документовПроверка соблюдения лицензи...</td>\n",
       "    </tr>\n",
       "  </tbody>\n",
       "</table>\n",
       "</div>"
      ],
      "text/plain": [
       "              DATE         INN             OGRN  \\\n",
       "527722  2021-09-19  4024007517  1034004100558.0   \n",
       "527723  2021-09-19  5032247578  1125032000675.0   \n",
       "527724  2021-09-19  4023010813  1144023000208.0   \n",
       "527725  2021-09-19  4024007517  1034004100558.0   \n",
       "527726  2021-09-19  5032199740  1085032325542.0   \n",
       "\n",
       "                                               VIOLATIONS  \\\n",
       "527722                                                      \n",
       "527723  9101155 не приняты меры для очередной поверки ...   \n",
       "527724                                                      \n",
       "527725                                                      \n",
       "527726  9101810 Ненадлежащее содержание общего имущест...   \n",
       "\n",
       "                                               CLASSIF_LB RESULT_INFO  \\\n",
       "527722                                                                  \n",
       "527723  Федеральный закон от 26 декабря 2008 г. № 294-...               \n",
       "527724  Федеральный закон от 26 декабря 2008 г. № 294-...               \n",
       "527725  Федеральный закон от 26 декабря 2008 г. № 294-...               \n",
       "527726  Федеральный закон от 26 декабря 2008 г. № 294-...               \n",
       "\n",
       "                                         CARRY_OUT_EVENTS  \n",
       "527722  1 Проверить качество предоставления коммунальн...  \n",
       "527723  Проверка соблюдения лицензиатом лицензионных т...  \n",
       "527724  Проверить техническое состояние многоквартирно...  \n",
       "527725  Проверить качество предоставления коммунальной...  \n",
       "527726  Проверка документовПроверка соблюдения лицензи...  "
      ]
     },
     "execution_count": 15,
     "metadata": {},
     "output_type": "execute_result"
    }
   ],
   "source": [
    "prokuror_df2.tail()"
   ]
  },
  {
   "cell_type": "markdown",
   "metadata": {},
   "source": [
    "# Transform prokuror"
   ]
  },
  {
   "cell_type": "code",
   "execution_count": 16,
   "metadata": {},
   "outputs": [
    {
     "name": "stderr",
     "output_type": "stream",
     "text": [
      "[nltk_data] Downloading package punkt to /home/rsolomatin/nltk_data...\n",
      "[nltk_data]   Package punkt is already up-to-date!\n"
     ]
    }
   ],
   "source": [
    "import nltk\n",
    "import nltk.data\n",
    "\n",
    "nltk.download(\"punkt\")\n",
    "tokenizer = nltk.data.load(\"tokenizers/punkt/russian.pickle\")"
   ]
  },
  {
   "cell_type": "code",
   "execution_count": 17,
   "metadata": {},
   "outputs": [],
   "source": [
    "def transform_to_sentences(row, columns: list, path: str):\n",
    "    unparsed_sentences = []\n",
    "    return_senteces = []\n",
    "    for col in columns:\n",
    "        for sentence in tokenizer.tokenize(row[col]):\n",
    "            if len(sentence.split()) > 3:\n",
    "                return_senteces.append((col, sentence))\n",
    "    return [\n",
    "        {\"path\": path, \"INN\": row[\"INN\"], \"column\": col, \"line\": line, \"sent_num\": i}\n",
    "        for i, (col, line) in enumerate(return_senteces)\n",
    "    ]"
   ]
  },
  {
   "cell_type": "code",
   "execution_count": 19,
   "metadata": {},
   "outputs": [
    {
     "name": "stderr",
     "output_type": "stream",
     "text": [
      "100%|██████████| 976216/976216 [00:45<00:00, 21357.33it/s]\n",
      "100%|██████████| 527727/527727 [01:18<00:00, 6706.24it/s]\n"
     ]
    }
   ],
   "source": [
    "arr = []\n",
    "arr.extend(\n",
    "    prokuror_df1.progress_apply(\n",
    "        transform_to_sentences, axis=1, columns=[\"OKVEDS\", \"REASON\"], path=\"result_1\"\n",
    "    )\n",
    ")\n",
    "arr.extend(\n",
    "    prokuror_df2.progress_apply(\n",
    "        transform_to_sentences,\n",
    "        axis=1,\n",
    "        columns=[\"VIOLATIONS\", \"RESULT_INFO\", \"CARRY_OUT_EVENTS\"],\n",
    "        path=\"result_2\",\n",
    "    )\n",
    ")"
   ]
  },
  {
   "cell_type": "code",
   "execution_count": 20,
   "metadata": {},
   "outputs": [],
   "source": [
    "res = []\n",
    "for i in arr:\n",
    "    res.extend(i)"
   ]
  },
  {
   "cell_type": "code",
   "execution_count": 21,
   "metadata": {},
   "outputs": [
    {
     "data": {
      "text/html": [
       "<div>\n",
       "<style scoped>\n",
       "    .dataframe tbody tr th:only-of-type {\n",
       "        vertical-align: middle;\n",
       "    }\n",
       "\n",
       "    .dataframe tbody tr th {\n",
       "        vertical-align: top;\n",
       "    }\n",
       "\n",
       "    .dataframe thead th {\n",
       "        text-align: right;\n",
       "    }\n",
       "</style>\n",
       "<table border=\"1\" class=\"dataframe\">\n",
       "  <thead>\n",
       "    <tr style=\"text-align: right;\">\n",
       "      <th></th>\n",
       "      <th>path</th>\n",
       "      <th>INN</th>\n",
       "      <th>column</th>\n",
       "      <th>line</th>\n",
       "      <th>sent_num</th>\n",
       "    </tr>\n",
       "  </thead>\n",
       "  <tbody>\n",
       "    <tr>\n",
       "      <th>0</th>\n",
       "      <td>result_1</td>\n",
       "      <td>7325142233</td>\n",
       "      <td>OKVEDS</td>\n",
       "      <td>Деятельность ресторанов и услуги по доставке п...</td>\n",
       "      <td>0</td>\n",
       "    </tr>\n",
       "    <tr>\n",
       "      <th>1</th>\n",
       "      <td>result_1</td>\n",
       "      <td>7325142233</td>\n",
       "      <td>REASON</td>\n",
       "      <td>(ФЗ 248) Наличие у контрольного (надзорного) о...</td>\n",
       "      <td>1</td>\n",
       "    </tr>\n",
       "    <tr>\n",
       "      <th>2</th>\n",
       "      <td>result_1</td>\n",
       "      <td>7325143371</td>\n",
       "      <td>OKVEDS</td>\n",
       "      <td>Деятельность ресторанов и услуги по доставке п...</td>\n",
       "      <td>0</td>\n",
       "    </tr>\n",
       "    <tr>\n",
       "      <th>3</th>\n",
       "      <td>result_1</td>\n",
       "      <td>7325143371</td>\n",
       "      <td>REASON</td>\n",
       "      <td>(ФЗ 248) Наличие у контрольного (надзорного) о...</td>\n",
       "      <td>1</td>\n",
       "    </tr>\n",
       "    <tr>\n",
       "      <th>4</th>\n",
       "      <td>result_1</td>\n",
       "      <td>5610096550</td>\n",
       "      <td>OKVEDS</td>\n",
       "      <td>Деятельность автомобильного грузового транспор...</td>\n",
       "      <td>0</td>\n",
       "    </tr>\n",
       "  </tbody>\n",
       "</table>\n",
       "</div>"
      ],
      "text/plain": [
       "       path         INN  column  \\\n",
       "0  result_1  7325142233  OKVEDS   \n",
       "1  result_1  7325142233  REASON   \n",
       "2  result_1  7325143371  OKVEDS   \n",
       "3  result_1  7325143371  REASON   \n",
       "4  result_1  5610096550  OKVEDS   \n",
       "\n",
       "                                                line  sent_num  \n",
       "0  Деятельность ресторанов и услуги по доставке п...         0  \n",
       "1  (ФЗ 248) Наличие у контрольного (надзорного) о...         1  \n",
       "2  Деятельность ресторанов и услуги по доставке п...         0  \n",
       "3  (ФЗ 248) Наличие у контрольного (надзорного) о...         1  \n",
       "4  Деятельность автомобильного грузового транспор...         0  "
      ]
     },
     "execution_count": 21,
     "metadata": {},
     "output_type": "execute_result"
    }
   ],
   "source": [
    "df = pd.DataFrame(res)\n",
    "df.head()"
   ]
  },
  {
   "cell_type": "code",
   "execution_count": 22,
   "metadata": {},
   "outputs": [],
   "source": [
    "df.to_csv(\"prokuror_results.csv\")"
   ]
  },
  {
   "cell_type": "markdown",
   "metadata": {},
   "source": [
    "# Read df"
   ]
  },
  {
   "cell_type": "code",
   "execution_count": 24,
   "metadata": {},
   "outputs": [],
   "source": [
    "test = pd.read_csv(\"prokuror_results.csv\", engine=\"python\")"
   ]
  }
 ],
 "metadata": {
  "kernelspec": {
   "display_name": "Python [conda env:jupyterbase]",
   "language": "python",
   "name": "conda-env-jupyterbase-py"
  },
  "language_info": {
   "codemirror_mode": {
    "name": "ipython",
    "version": 3
   },
   "file_extension": ".py",
   "mimetype": "text/x-python",
   "name": "python",
   "nbconvert_exporter": "python",
   "pygments_lexer": "ipython3",
   "version": "3.8.8"
  }
 },
 "nbformat": 4,
 "nbformat_minor": 4
}
