{
 "cells": [
  {
   "cell_type": "code",
   "execution_count": 93,
   "id": "5ef7806e-f7bf-4c16-b97b-c55044f9d478",
   "metadata": {},
   "outputs": [],
   "source": [
    "import re\n",
    "from bs4 import BeautifulSoup\n",
    "import requests\n",
    "import json"
   ]
  },
  {
   "cell_type": "markdown",
   "id": "b5b5462f-d088-4b47-a1c8-6bea180e49b5",
   "metadata": {},
   "source": [
    "# insurance"
   ]
  },
  {
   "cell_type": "code",
   "execution_count": 4,
   "id": "0aed3ebb-c6e8-4b7a-9073-dfc128f808b5",
   "metadata": {},
   "outputs": [],
   "source": [
    "response = requests.get(\"http://localhost:8000/bank/insurance\")\n",
    "insurance_list = response.json()[\"items\"]"
   ]
  },
  {
   "cell_type": "code",
   "execution_count": 6,
   "id": "9e9f29d4-c191-4fb1-8d2c-d0d867847677",
   "metadata": {},
   "outputs": [],
   "source": [
    "sravni_list = requests.get(\n",
    "    \"https://www.sravni.ru/proxy-organizations/organizations?active=true&limit=1000&organizationType=insuranceCompany&skip=0\"\n",
    ").json()[\"items\"]"
   ]
  },
  {
   "cell_type": "code",
   "execution_count": 37,
   "id": "450115d4-43f6-48c7-862e-819fa73ae324",
   "metadata": {},
   "outputs": [],
   "source": [
    "sravni_insurance = []\n",
    "for sravni in sravni_list:\n",
    "    if len(sravni[\"license\"]) == 0:\n",
    "        continue\n",
    "    license = re.findall(\"(?:(?<=№)|(?<=№\\s))\\d+(?:(?=\\sот)|(?=-\\d+|\\s))\", sravni[\"license\"])[0]\n",
    "    sravni_insurance.append({\"id\": sravni[\"id\"], \"alias\": sravni[\"alias\"], \"name\": sravni[\"name\"], \"licence\": licence})"
   ]
  },
  {
   "cell_type": "code",
   "execution_count": 49,
   "id": "0a06dca2-2979-444c-bf1f-ec699cc02613",
   "metadata": {
    "tags": []
   },
   "outputs": [],
   "source": [
    "for sravni in sravni_insurance:\n",
    "    fl = True\n",
    "    for insurance in insurance_list:\n",
    "        if int(sravni[\"licence\"]) == int(insurance[\"licence\"]):\n",
    "            fl = False\n",
    "            break\n",
    "    if fl:\n",
    "        print(sravni)"
   ]
  },
  {
   "cell_type": "markdown",
   "id": "67168c55-6dba-4597-be37-4d0148ed2273",
   "metadata": {},
   "source": [
    "# broker\n",
    "No reviews"
   ]
  },
  {
   "cell_type": "code",
   "execution_count": 50,
   "id": "bfe38b1f-9747-4239-a321-a1ddf62b6f39",
   "metadata": {},
   "outputs": [],
   "source": [
    "response = requests.get(\"http://localhost:8000/bank/broker\")\n",
    "broker_list = response.json()[\"items\"]"
   ]
  },
  {
   "cell_type": "code",
   "execution_count": 84,
   "id": "5bdd55af-12f1-4740-ae06-996d51c92b6a",
   "metadata": {},
   "outputs": [],
   "source": [
    "response = requests.post(\n",
    "    \"https://public.sravni.ru/v1/vitrins/products\",\n",
    "    json={\n",
    "        \"productName\": \"brokerskoe-obsluzhivanie\",\n",
    "        \"limit\": 200,\n",
    "        \"offset\": 0,\n",
    "        \"advertisingOnly\": False,\n",
    "        \"location\": \"6.83.\",\n",
    "        \"offerTypes\": [],\n",
    "        \"isMix\": False,\n",
    "        \"group\": [\"organization\"],\n",
    "        \"groupLimit\": 5,\n",
    "        \"sortProperty\": \"advertising.position\",\n",
    "        \"sortDirection\": \"asc\",\n",
    "    }\n",
    ")\n",
    "sravni_brokers = response.json()[\"items\"]"
   ]
  },
  {
   "cell_type": "markdown",
   "id": "6c5ea577-c252-4df9-9de2-fa98ab09ff5c",
   "metadata": {},
   "source": [
    "# MFO"
   ]
  },
  {
   "cell_type": "code",
   "execution_count": 87,
   "id": "6e90da03-c282-4730-a4d5-50b538df7585",
   "metadata": {},
   "outputs": [],
   "source": [
    "response = requests.get(\"https://www.sravni.ru/zaimy/mfo/\")"
   ]
  },
  {
   "cell_type": "code",
   "execution_count": 91,
   "id": "99cdb469-10ad-4a32-ad4c-8bd6d0c320b9",
   "metadata": {},
   "outputs": [],
   "source": [
    "page = BeautifulSoup(response.text, \"html.parser\")"
   ]
  },
  {
   "cell_type": "code",
   "execution_count": 92,
   "id": "6c33b144-8d76-47b5-bc84-f05351cc8ff2",
   "metadata": {},
   "outputs": [],
   "source": [
    "js = page.find(id=\"__NEXT_DATA__\")"
   ]
  },
  {
   "cell_type": "code",
   "execution_count": 97,
   "id": "fdfa5570-4205-4904-ba83-ef5c41069feb",
   "metadata": {},
   "outputs": [],
   "source": [
    "js = json.loads(js.text)"
   ]
  },
  {
   "cell_type": "code",
   "execution_count": 116,
   "id": "dc475453-a4c2-4906-9dea-3c25707fe73e",
   "metadata": {},
   "outputs": [],
   "source": [
    "sravmi_mfo = []\n",
    "for mfo in js[\"props\"][\"initialReduxState\"][\"organizations\"][\"list\"]:\n",
    "    sravmi_mfo.append({\n",
    "        \"id\": mfo[\"id\"],\n",
    "        \"license\": mfo[\"license\"],\n",
    "        \"alias\": mfo[\"alias\"],\n",
    "        \"name\": mfo[\"name\"][\"short\"],\n",
    "        \"full_name\": mfo[\"name\"][\"full\"],\n",
    "        \"official_name\": mfo[\"name\"][\"official\"],\n",
    "        \"orgn\": mfo[\"requisites\"][\"ogrn\"]\n",
    "    })"
   ]
  },
  {
   "cell_type": "code",
   "execution_count": 107,
   "id": "763e4081-8ba4-4d1b-bc6e-e46d3f692d88",
   "metadata": {},
   "outputs": [],
   "source": [
    "response = requests.get(\"http://localhost:8000/bank/mfo\")\n",
    "mfo_list = response.json()[\"items\"]"
   ]
  },
  {
   "cell_type": "code",
   "execution_count": 123,
   "id": "7abfa586-1350-4a86-a129-e6c0a936b328",
   "metadata": {
    "tags": []
   },
   "outputs": [
    {
     "name": "stdout",
     "output_type": "stream",
     "text": [
      "{'id': '6236234da1453800245283a7', 'license': '0', 'alias': 'dzhomin', 'name': 'Джомин', 'full_name': 'ООО «Джомин»', 'official_name': 'Общество с ограниченной ответственностью «Джомин»', 'orgn': '1186451027014'}\n"
     ]
    },
    {
     "data": {
      "text/plain": [
       "273"
      ]
     },
     "execution_count": 123,
     "metadata": {},
     "output_type": "execute_result"
    }
   ],
   "source": [
    "c = 0\n",
    "for sravni in sravmi_mfo:\n",
    "    fl = True\n",
    "    for mfo in mfo_list:\n",
    "        description = json.loads(mfo[\"description\"])\n",
    "        if (int(sravni[\"license\"]) == int(mfo[\"licence\"])) or (int(sravni['orgn'])==int(description['ogrn'])):\n",
    "            c += 1\n",
    "            fl = False\n",
    "            break\n",
    "    if fl:\n",
    "        print(sravni)\n",
    "c"
   ]
  },
  {
   "cell_type": "code",
   "execution_count": 113,
   "id": "2f32888a-2c5c-4fca-af25-9d46b825a408",
   "metadata": {},
   "outputs": [
    {
     "data": {
      "text/plain": [
       "274"
      ]
     },
     "execution_count": 113,
     "metadata": {},
     "output_type": "execute_result"
    }
   ],
   "source": [
    "len(sravmi_mfo)"
   ]
  },
  {
   "cell_type": "code",
   "execution_count": 121,
   "id": "2ae37ae0-67da-461b-87a0-c8429e424426",
   "metadata": {},
   "outputs": [
    {
     "data": {
      "text/plain": [
       "{'id': 11382,\n",
       " 'bank_name': 'Общество с ограниченной ответственностью Микрокредитная компания «Диджитал Мани»',\n",
       " 'licence': '2004150009570',\n",
       " 'description': '{\"ogrn\": 1195476084968, \"short_name\": \"\\\\u041e\\\\u041e\\\\u041e \\\\u041c\\\\u041a\\\\u041a \\\\u00ab\\\\u0414\\\\u0438\\\\u0434\\\\u0436\\\\u0438\\\\u0442\\\\u0430\\\\u043b \\\\u041c\\\\u0430\\\\u043d\\\\u0438\\\\u00bb\"}'}"
      ]
     },
     "execution_count": 121,
     "metadata": {},
     "output_type": "execute_result"
    }
   ],
   "source": [
    "mfo"
   ]
  },
  {
   "cell_type": "code",
   "execution_count": 122,
   "id": "14887a92-5551-4cde-a38e-00bb9230f557",
   "metadata": {},
   "outputs": [
    {
     "data": {
      "text/plain": [
       "{'id': '6328952a3ae9540023167114',\n",
       " 'license': '2004150009570',\n",
       " 'alias': 'didzhital-mani',\n",
       " 'name': 'Диджитал Мани',\n",
       " 'full_name': 'ООО МКК «Диджитал Мани»',\n",
       " 'official_name': 'Общество с ограниченной ответственностью Микрокредитная компания «Диджитал Мани»',\n",
       " 'orgn': '1195476084968'}"
      ]
     },
     "execution_count": 122,
     "metadata": {},
     "output_type": "execute_result"
    }
   ],
   "source": [
    "sravni"
   ]
  },
  {
   "cell_type": "code",
   "execution_count": null,
   "id": "a4a67eff-ecd7-437e-8ee4-c6dc6fd333e3",
   "metadata": {},
   "outputs": [],
   "source": []
  }
 ],
 "metadata": {
  "kernelspec": {
   "display_name": "Python 3 (ipykernel)",
   "language": "python",
   "name": "python3"
  },
  "language_info": {
   "codemirror_mode": {
    "name": "ipython",
    "version": 3
   },
   "file_extension": ".py",
   "mimetype": "text/x-python",
   "name": "python",
   "nbconvert_exporter": "python",
   "pygments_lexer": "ipython3",
   "version": "3.10.4"
  },
  "widgets": {
   "application/vnd.jupyter.widget-state+json": {
    "state": {},
    "version_major": 2,
    "version_minor": 0
   }
  }
 },
 "nbformat": 4,
 "nbformat_minor": 5
}
