{
 "cells": [
  {
   "cell_type": "markdown",
   "id": "83217eb1-0ffc-4934-bf51-7176d39e1acb",
   "metadata": {},
   "source": [
    "https://docs.google.com/spreadsheets/d/1XttPTaqV1D_W7dfYqC_4pypOlvnUSM0Itk2nXmv8Yrc/edit#gid=1569942191%5C"
   ]
  },
  {
   "cell_type": "code",
   "execution_count": 1,
   "id": "8956b6b5-6d67-4e85-a546-4f7b8a4fc1f5",
   "metadata": {},
   "outputs": [],
   "source": [
    "import re\n",
    "\n",
    "import numpy as np\n",
    "import pandas as pd"
   ]
  },
  {
   "cell_type": "code",
   "execution_count": 2,
   "id": "ed7d25ee-6ca5-4f57-9e4b-136279cbf046",
   "metadata": {},
   "outputs": [
    {
     "data": {
      "text/html": [
       "<div>\n",
       "<style scoped>\n",
       "    .dataframe tbody tr th:only-of-type {\n",
       "        vertical-align: middle;\n",
       "    }\n",
       "\n",
       "    .dataframe tbody tr th {\n",
       "        vertical-align: top;\n",
       "    }\n",
       "\n",
       "    .dataframe thead th {\n",
       "        text-align: right;\n",
       "    }\n",
       "</style>\n",
       "<table border=\"1\" class=\"dataframe\">\n",
       "  <thead>\n",
       "    <tr style=\"text-align: right;\">\n",
       "      <th></th>\n",
       "      <th>word</th>\n",
       "      <th>positive</th>\n",
       "    </tr>\n",
       "  </thead>\n",
       "  <tbody>\n",
       "    <tr>\n",
       "      <th>0</th>\n",
       "      <td>\\bбезопасн+</td>\n",
       "      <td>True</td>\n",
       "    </tr>\n",
       "    <tr>\n",
       "      <th>1</th>\n",
       "      <td>\\bмир+</td>\n",
       "      <td>True</td>\n",
       "    </tr>\n",
       "    <tr>\n",
       "      <th>2</th>\n",
       "      <td>\\bсострада+</td>\n",
       "      <td>True</td>\n",
       "    </tr>\n",
       "    <tr>\n",
       "      <th>3</th>\n",
       "      <td>\\bэмпат+</td>\n",
       "      <td>True</td>\n",
       "    </tr>\n",
       "    <tr>\n",
       "      <th>4</th>\n",
       "      <td>\\bсочувств+</td>\n",
       "      <td>True</td>\n",
       "    </tr>\n",
       "  </tbody>\n",
       "</table>\n",
       "</div>"
      ],
      "text/plain": [
       "          word  positive\n",
       "0  \\bбезопасн+      True\n",
       "1       \\bмир+      True\n",
       "2  \\bсострада+      True\n",
       "3     \\bэмпат+      True\n",
       "4  \\bсочувств+      True"
      ]
     },
     "execution_count": 2,
     "metadata": {},
     "output_type": "execute_result"
    }
   ],
   "source": [
    "mdf_v2 = pd.read_csv(\"mdf_v2.csv.zip\", compression=\"zip\", index_col=0)\n",
    "mdf_v2.head()"
   ]
  },
  {
   "cell_type": "code",
   "execution_count": 3,
   "id": "1cd8afeb-973b-443a-945b-682c4e45488e",
   "metadata": {},
   "outputs": [
    {
     "data": {
      "text/html": [
       "<div>\n",
       "<style scoped>\n",
       "    .dataframe tbody tr th:only-of-type {\n",
       "        vertical-align: middle;\n",
       "    }\n",
       "\n",
       "    .dataframe tbody tr th {\n",
       "        vertical-align: top;\n",
       "    }\n",
       "\n",
       "    .dataframe thead th {\n",
       "        text-align: right;\n",
       "    }\n",
       "</style>\n",
       "<table border=\"1\" class=\"dataframe\">\n",
       "  <thead>\n",
       "    <tr style=\"text-align: right;\">\n",
       "      <th></th>\n",
       "      <th>translation</th>\n",
       "      <th>vice_virtue</th>\n",
       "    </tr>\n",
       "  </thead>\n",
       "  <tbody>\n",
       "    <tr>\n",
       "      <th>0</th>\n",
       "      <td>безопасн*</td>\n",
       "      <td>virtue</td>\n",
       "    </tr>\n",
       "    <tr>\n",
       "      <th>1</th>\n",
       "      <td>мир*</td>\n",
       "      <td>virtue</td>\n",
       "    </tr>\n",
       "    <tr>\n",
       "      <th>2</th>\n",
       "      <td>сострада*</td>\n",
       "      <td>virtue</td>\n",
       "    </tr>\n",
       "    <tr>\n",
       "      <th>3</th>\n",
       "      <td>эмпат*</td>\n",
       "      <td>virtue</td>\n",
       "    </tr>\n",
       "    <tr>\n",
       "      <th>4</th>\n",
       "      <td>сочувств*</td>\n",
       "      <td>virtue</td>\n",
       "    </tr>\n",
       "  </tbody>\n",
       "</table>\n",
       "</div>"
      ],
      "text/plain": [
       "  translation vice_virtue\n",
       "0   безопасн*      virtue\n",
       "1        мир*      virtue\n",
       "2   сострада*      virtue\n",
       "3      эмпат*      virtue\n",
       "4   сочувств*      virtue"
      ]
     },
     "execution_count": 3,
     "metadata": {},
     "output_type": "execute_result"
    }
   ],
   "source": [
    "sheet = pd.read_excel(\"morality-dictionary.xlsx\")\n",
    "sheet = sheet[[\"translation\", \"vice_virtue\"]]\n",
    "sheet = sheet.dropna()\n",
    "sheet[\"translation\"] = sheet[\"translation\"].str.replace(\", \", \",\")\n",
    "sheet[\"translation\"] = sheet[\"translation\"].str.strip().replace(\" \", \",\")\n",
    "sheet.head()"
   ]
  },
  {
   "cell_type": "code",
   "execution_count": 4,
   "id": "c801646d-74cc-45ba-bbd1-e97fefdff2a2",
   "metadata": {},
   "outputs": [],
   "source": [
    "sheet[\"vice_virtue\"] = sheet.apply(lambda row: row[\"vice_virtue\"].split(\",\")[0], axis=1)\n",
    "sheet = sheet[sheet[\"vice_virtue\"].isin([\"vice\", \"virtue\"])]"
   ]
  },
  {
   "cell_type": "code",
   "execution_count": 5,
   "id": "9abc956e-8ee9-4045-9149-d31e04f28ff1",
   "metadata": {},
   "outputs": [
    {
     "data": {
      "text/html": [
       "<div>\n",
       "<style scoped>\n",
       "    .dataframe tbody tr th:only-of-type {\n",
       "        vertical-align: middle;\n",
       "    }\n",
       "\n",
       "    .dataframe tbody tr th {\n",
       "        vertical-align: top;\n",
       "    }\n",
       "\n",
       "    .dataframe thead th {\n",
       "        text-align: right;\n",
       "    }\n",
       "</style>\n",
       "<table border=\"1\" class=\"dataframe\">\n",
       "  <thead>\n",
       "    <tr style=\"text-align: right;\">\n",
       "      <th></th>\n",
       "      <th>translation</th>\n",
       "      <th>postive</th>\n",
       "    </tr>\n",
       "  </thead>\n",
       "  <tbody>\n",
       "    <tr>\n",
       "      <th>0</th>\n",
       "      <td>безопасн*</td>\n",
       "      <td>True</td>\n",
       "    </tr>\n",
       "    <tr>\n",
       "      <th>1</th>\n",
       "      <td>мир*</td>\n",
       "      <td>True</td>\n",
       "    </tr>\n",
       "    <tr>\n",
       "      <th>2</th>\n",
       "      <td>сострада*</td>\n",
       "      <td>True</td>\n",
       "    </tr>\n",
       "    <tr>\n",
       "      <th>3</th>\n",
       "      <td>эмпат*</td>\n",
       "      <td>True</td>\n",
       "    </tr>\n",
       "    <tr>\n",
       "      <th>4</th>\n",
       "      <td>сочувств*</td>\n",
       "      <td>True</td>\n",
       "    </tr>\n",
       "  </tbody>\n",
       "</table>\n",
       "</div>"
      ],
      "text/plain": [
       "  translation  postive\n",
       "0   безопасн*     True\n",
       "1        мир*     True\n",
       "2   сострада*     True\n",
       "3      эмпат*     True\n",
       "4   сочувств*     True"
      ]
     },
     "execution_count": 5,
     "metadata": {},
     "output_type": "execute_result"
    }
   ],
   "source": [
    "sheet[\"postive\"] = sheet[\"vice_virtue\"] == \"virtue\"\n",
    "del sheet[\"vice_virtue\"]\n",
    "sheet.head()"
   ]
  },
  {
   "cell_type": "code",
   "execution_count": 6,
   "id": "70a00caf-a0cb-4508-be50-0d2cdd565a0a",
   "metadata": {},
   "outputs": [
    {
     "data": {
      "text/html": [
       "<div>\n",
       "<style scoped>\n",
       "    .dataframe tbody tr th:only-of-type {\n",
       "        vertical-align: middle;\n",
       "    }\n",
       "\n",
       "    .dataframe tbody tr th {\n",
       "        vertical-align: top;\n",
       "    }\n",
       "\n",
       "    .dataframe thead th {\n",
       "        text-align: right;\n",
       "    }\n",
       "</style>\n",
       "<table border=\"1\" class=\"dataframe\">\n",
       "  <thead>\n",
       "    <tr style=\"text-align: right;\">\n",
       "      <th></th>\n",
       "      <th>translation</th>\n",
       "      <th>postive</th>\n",
       "    </tr>\n",
       "  </thead>\n",
       "  <tbody>\n",
       "    <tr>\n",
       "      <th>313</th>\n",
       "      <td>зло*,злю*,зла*,злу</td>\n",
       "      <td>False</td>\n",
       "    </tr>\n",
       "    <tr>\n",
       "      <th>314</th>\n",
       "      <td>порок*,порочн*</td>\n",
       "      <td>False</td>\n",
       "    </tr>\n",
       "    <tr>\n",
       "      <th>315</th>\n",
       "      <td>эксплуата*</td>\n",
       "      <td>False</td>\n",
       "    </tr>\n",
       "    <tr>\n",
       "      <th>316</th>\n",
       "      <td>извращен*</td>\n",
       "      <td>False</td>\n",
       "    </tr>\n",
       "    <tr>\n",
       "      <th>317</th>\n",
       "      <td>несчаст*</td>\n",
       "      <td>False</td>\n",
       "    </tr>\n",
       "  </tbody>\n",
       "</table>\n",
       "</div>"
      ],
      "text/plain": [
       "            translation  postive\n",
       "313  зло*,злю*,зла*,злу    False\n",
       "314      порок*,порочн*    False\n",
       "315          эксплуата*    False\n",
       "316           извращен*    False\n",
       "317            несчаст*    False"
      ]
     },
     "execution_count": 6,
     "metadata": {},
     "output_type": "execute_result"
    }
   ],
   "source": [
    "sheet.tail()"
   ]
  },
  {
   "cell_type": "code",
   "execution_count": 7,
   "id": "0cf7be8c-f280-48a2-801b-d06c79376a96",
   "metadata": {},
   "outputs": [],
   "source": [
    "mdf = []\n",
    "for _, (words_str, positive) in sheet.iterrows():\n",
    "    words = words_str.split(\",\")\n",
    "    if len(words) == 1:\n",
    "        words = words[0].strip().split()\n",
    "    for word in words:\n",
    "        mdf.append({\"word\": word, \"positive\": positive})\n",
    "mdf = pd.DataFrame(mdf)"
   ]
  },
  {
   "cell_type": "code",
   "execution_count": 8,
   "id": "d1717d24-675d-4228-9b63-bef4604e0b8c",
   "metadata": {},
   "outputs": [],
   "source": [
    "mdf[\"word\"] = mdf[\"word\"].apply(lambda x: r\"\\b\" + x.replace(\"*\", \"+\") if \"*\" in x else r\"\\b\" + x + r\"\\b\")"
   ]
  },
  {
   "cell_type": "code",
   "execution_count": 9,
   "id": "7b161b16-d0d4-4c55-906b-554254e8f378",
   "metadata": {},
   "outputs": [],
   "source": [
    "mdf.to_csv(\"morality.csv.zip\", compression=\"zip\")"
   ]
  },
  {
   "cell_type": "code",
   "execution_count": 10,
   "id": "aab99c14-9907-43f5-be94-b435ffe574d0",
   "metadata": {},
   "outputs": [],
   "source": [
    "combined = pd.concat([mdf_v2, mdf])\n",
    "combined.to_csv(\"morality_with_v2.csv.zip\", compression=\"zip\")"
   ]
  },
  {
   "cell_type": "code",
   "execution_count": 11,
   "id": "17c62868-fe80-45e1-979c-6598270ca481",
   "metadata": {},
   "outputs": [
    {
     "data": {
      "text/html": [
       "<div>\n",
       "<style scoped>\n",
       "    .dataframe tbody tr th:only-of-type {\n",
       "        vertical-align: middle;\n",
       "    }\n",
       "\n",
       "    .dataframe tbody tr th {\n",
       "        vertical-align: top;\n",
       "    }\n",
       "\n",
       "    .dataframe thead th {\n",
       "        text-align: right;\n",
       "    }\n",
       "</style>\n",
       "<table border=\"1\" class=\"dataframe\">\n",
       "  <thead>\n",
       "    <tr style=\"text-align: right;\">\n",
       "      <th></th>\n",
       "      <th>word</th>\n",
       "      <th>positive</th>\n",
       "      <th>size</th>\n",
       "    </tr>\n",
       "  </thead>\n",
       "  <tbody>\n",
       "    <tr>\n",
       "      <th>0</th>\n",
       "      <td>\\bавторит+</td>\n",
       "      <td>True</td>\n",
       "      <td>2</td>\n",
       "    </tr>\n",
       "    <tr>\n",
       "      <th>1</th>\n",
       "      <td>\\bагресс+</td>\n",
       "      <td>False</td>\n",
       "      <td>2</td>\n",
       "    </tr>\n",
       "    <tr>\n",
       "      <th>2</th>\n",
       "      <td>\\bаморал+</td>\n",
       "      <td>False</td>\n",
       "      <td>1</td>\n",
       "    </tr>\n",
       "    <tr>\n",
       "      <th>3</th>\n",
       "      <td>\\bатак+</td>\n",
       "      <td>False</td>\n",
       "      <td>2</td>\n",
       "    </tr>\n",
       "    <tr>\n",
       "      <th>4</th>\n",
       "      <td>\\bбеззаконн+</td>\n",
       "      <td>False</td>\n",
       "      <td>2</td>\n",
       "    </tr>\n",
       "    <tr>\n",
       "      <th>...</th>\n",
       "      <td>...</td>\n",
       "      <td>...</td>\n",
       "      <td>...</td>\n",
       "    </tr>\n",
       "    <tr>\n",
       "      <th>349</th>\n",
       "      <td>\\bэксплуатат+</td>\n",
       "      <td>False</td>\n",
       "      <td>2</td>\n",
       "    </tr>\n",
       "    <tr>\n",
       "      <th>350</th>\n",
       "      <td>\\bэксплуатац+</td>\n",
       "      <td>False</td>\n",
       "      <td>2</td>\n",
       "    </tr>\n",
       "    <tr>\n",
       "      <th>351</th>\n",
       "      <td>\\bэксплуатир+</td>\n",
       "      <td>False</td>\n",
       "      <td>2</td>\n",
       "    </tr>\n",
       "    <tr>\n",
       "      <th>352</th>\n",
       "      <td>\\bэмпат+</td>\n",
       "      <td>True</td>\n",
       "      <td>2</td>\n",
       "    </tr>\n",
       "    <tr>\n",
       "      <th>353</th>\n",
       "      <td>\\bэтичн+</td>\n",
       "      <td>True</td>\n",
       "      <td>1</td>\n",
       "    </tr>\n",
       "  </tbody>\n",
       "</table>\n",
       "<p>354 rows × 3 columns</p>\n",
       "</div>"
      ],
      "text/plain": [
       "              word  positive  size\n",
       "0       \\bавторит+      True     2\n",
       "1        \\bагресс+     False     2\n",
       "2        \\bаморал+     False     1\n",
       "3          \\bатак+     False     2\n",
       "4     \\bбеззаконн+     False     2\n",
       "..             ...       ...   ...\n",
       "349  \\bэксплуатат+     False     2\n",
       "350  \\bэксплуатац+     False     2\n",
       "351  \\bэксплуатир+     False     2\n",
       "352       \\bэмпат+      True     2\n",
       "353       \\bэтичн+      True     1\n",
       "\n",
       "[354 rows x 3 columns]"
      ]
     },
     "execution_count": 11,
     "metadata": {},
     "output_type": "execute_result"
    }
   ],
   "source": [
    "combined.groupby(combined.columns.tolist(),as_index=False).size()"
   ]
  },
  {
   "cell_type": "code",
   "execution_count": 12,
   "id": "4f7cb59a-04e9-4fb2-afba-98e3701608a5",
   "metadata": {},
   "outputs": [],
   "source": [
    "text = \"атак закон\""
   ]
  },
  {
   "cell_type": "code",
   "execution_count": 13,
   "id": "53524220-fee1-4422-9f0a-d8aa8a882733",
   "metadata": {},
   "outputs": [],
   "source": [
    "mdf_v2_positive = re.compile(\"(\" + \"|\".join(mdf_v2[mdf_v2[\"positive\"]][\"word\"]) + \")\")\n",
    "mdf_v2_negative = re.compile(\"(\" + \"|\".join(mdf_v2[~mdf_v2[\"positive\"]][\"word\"]) + \")\")\n",
    "mdf_positive = re.compile(\"(\" + \"|\".join(mdf[mdf[\"positive\"]][\"word\"]) + \")\")\n",
    "mdf_negative = re.compile(\"(\" + \"|\".join(mdf[~mdf[\"positive\"]][\"word\"]) + \")\")\n",
    "combined_positive = re.compile(\"(\" + \"|\".join(combined[combined[\"positive\"]][\"word\"]) + \")\")\n",
    "combined_negative = re.compile(\"(\" + \"|\".join(combined[~combined[\"positive\"]][\"word\"]) + \")\")"
   ]
  },
  {
   "cell_type": "code",
   "execution_count": 14,
   "id": "630af021-c9ec-4f31-ba18-cbd2dfcbf180",
   "metadata": {},
   "outputs": [
    {
     "name": "stdout",
     "output_type": "stream",
     "text": [
      "1.29 µs ± 148 ns per loop (mean ± std. dev. of 7 runs, 1,000,000 loops each)\n",
      "1.36 µs ± 66.7 ns per loop (mean ± std. dev. of 7 runs, 1,000,000 loops each)\n",
      "1.98 µs ± 86.1 ns per loop (mean ± std. dev. of 7 runs, 100,000 loops each)\n"
     ]
    }
   ],
   "source": [
    "assert mdf_v2_positive.findall(text) == mdf_positive.findall(text) == combined_positive.findall(text)\n",
    "%timeit mdf_v2_positive.findall(text)\n",
    "%timeit mdf_positive.findall(text)\n",
    "%timeit combined_positive.findall(text)"
   ]
  },
  {
   "cell_type": "code",
   "execution_count": 15,
   "id": "caee7ec9-0fbb-45bf-a072-da6b49b12a81",
   "metadata": {},
   "outputs": [
    {
     "name": "stdout",
     "output_type": "stream",
     "text": [
      "1.18 µs ± 28.3 ns per loop (mean ± std. dev. of 7 runs, 1,000,000 loops each)\n",
      "1.36 µs ± 135 ns per loop (mean ± std. dev. of 7 runs, 1,000,000 loops each)\n",
      "1.85 µs ± 67.2 ns per loop (mean ± std. dev. of 7 runs, 1,000,000 loops each)\n"
     ]
    }
   ],
   "source": [
    "assert mdf_v2_negative.findall(text) == mdf_negative.findall(text) == combined_negative.findall(text)\n",
    "%timeit mdf_v2_negative.findall(text)\n",
    "%timeit mdf_negative.findall(text)\n",
    "%timeit combined_negative.findall(text)"
   ]
  },
  {
   "cell_type": "code",
   "execution_count": null,
   "id": "38033722-73b1-4c5b-a410-75a3bd533df8",
   "metadata": {},
   "outputs": [],
   "source": []
  }
 ],
 "metadata": {
  "kernelspec": {
   "display_name": "Python 3 (ipykernel)",
   "language": "python",
   "name": "python3"
  },
  "language_info": {
   "codemirror_mode": {
    "name": "ipython",
    "version": 3
   },
   "file_extension": ".py",
   "mimetype": "text/x-python",
   "name": "python",
   "nbconvert_exporter": "python",
   "pygments_lexer": "ipython3",
   "version": "3.10.4"
  },
  "widgets": {
   "application/vnd.jupyter.widget-state+json": {
    "state": {},
    "version_major": 2,
    "version_minor": 0
   }
  }
 },
 "nbformat": 4,
 "nbformat_minor": 5
}
