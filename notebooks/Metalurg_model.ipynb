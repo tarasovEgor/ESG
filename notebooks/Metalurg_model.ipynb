{
 "cells": [
  {
   "cell_type": "code",
   "execution_count": 1,
   "metadata": {},
   "outputs": [],
   "source": [
    "import pandas as pd\n",
    "from torch.utils.data import Dataset\n",
    "import numpy as np"
   ]
  },
  {
   "cell_type": "code",
   "execution_count": 2,
   "metadata": {},
   "outputs": [
    {
     "data": {
      "text/plain": [
       "(100000, 3)"
      ]
     },
     "execution_count": 2,
     "metadata": {},
     "output_type": "execute_result"
    }
   ],
   "source": [
    "df = pd.read_csv(\"parsed_metalurgs.csv\", nrows=100_000)\n",
    "df.shape"
   ]
  },
  {
   "cell_type": "code",
   "execution_count": 15,
   "metadata": {},
   "outputs": [],
   "source": [
    "class SentencesDataset(Dataset):\n",
    "    def __init__(self, dataset, data_size=None, close_sent_dist=3, far_sent_dist=20):\n",
    "        self.dataset = dataset\n",
    "        self.data_size = data_size if data_size is not None else len(self.dataset)\n",
    "        self.close_sent_dist = close_sent_dist\n",
    "        self.far_sent_dist = far_sent_dist\n",
    "\n",
    "    def __len__(self):\n",
    "        return self.data_size\n",
    "\n",
    "    def __getitem__(self, idx: int):\n",
    "        first, second = 0, 0\n",
    "        label = 0\n",
    "\n",
    "        if idx % 2:\n",
    "            first, second = self.get_positive_example()\n",
    "            label = 1\n",
    "        else:\n",
    "            first, second = self.get_negative_example()\n",
    "            label = 0\n",
    "\n",
    "        first_sentence, second_sentence = self.dataset.line.iloc[[first, second]]\n",
    "        examples = {\n",
    "            \"sentence1\": first_sentence,\n",
    "            \"sentence2\": second_sentence,\n",
    "            \"label\": label,\n",
    "        }\n",
    "\n",
    "        return examples\n",
    "\n",
    "    def get_positive_example(self):\n",
    "        while True:\n",
    "            first_id = np.random.randint(len(self.dataset))\n",
    "            first_id_path = self.dataset.path.iloc[first_id]\n",
    "            min_second_id = max(first_id - self.close_sent_dist, 0)\n",
    "            max_second_id = min(first_id + self.close_sent_dist, len(self.dataset) - 1)\n",
    "            while self.dataset.path.iat[min_second_id] != first_id_path:\n",
    "                min_second_id += 1\n",
    "            while self.dataset.path.iat[max_second_id] != first_id_path:\n",
    "                max_second_id -= 1\n",
    "            if max_second_id - min_second_id > 0:\n",
    "                second_id = np.random.randint(min_second_id, max_second_id)\n",
    "\n",
    "                # assert first_id != second_id\n",
    "                # assert self.dataset.path.iat[first_id] == self.dataset.path.iat[second_id]\n",
    "                return first_id, second_id\n",
    "\n",
    "    def get_negative_example(self):\n",
    "        first_id = np.random.randint(len(self.dataset))\n",
    "        second_id = np.random.randint(len(self.dataset) - 2 * self.far_sent_dist - 1)\n",
    "        if second_id >= first_id - self.far_sent_dist:\n",
    "            second_id += 2 * self.far_sent_dist + 1\n",
    "        return first_id, second_id"
   ]
  },
  {
   "cell_type": "code",
   "execution_count": 16,
   "metadata": {},
   "outputs": [],
   "source": [
    "test = SentencesDataset(df)"
   ]
  },
  {
   "cell_type": "code",
   "execution_count": 21,
   "metadata": {},
   "outputs": [
    {
     "data": {
      "text/plain": [
       "{'sentence1': '\"Переходные опоры ЛЭП  кВ\"',\n",
       " 'sentence2': '\"Угловые опоры ЛЭП  кВ\"',\n",
       " 'label': 1}"
      ]
     },
     "execution_count": 21,
     "metadata": {},
     "output_type": "execute_result"
    }
   ],
   "source": [
    "test[1]"
   ]
  },
  {
   "cell_type": "code",
   "execution_count": null,
   "metadata": {},
   "outputs": [],
   "source": []
  }
 ],
 "metadata": {
  "kernelspec": {
   "display_name": "Python 3 (ipykernel)",
   "language": "python",
   "name": "python3"
  },
  "language_info": {
   "codemirror_mode": {
    "name": "ipython",
    "version": 3
   },
   "file_extension": ".py",
   "mimetype": "text/x-python",
   "name": "python",
   "nbconvert_exporter": "python",
   "pygments_lexer": "ipython3",
   "version": "3.10.4"
  },
  "widgets": {
   "application/vnd.jupyter.widget-state+json": {
    "state": {},
    "version_major": 2,
    "version_minor": 0
   }
  }
 },
 "nbformat": 4,
 "nbformat_minor": 4
}
