{
 "cells": [
  {
   "cell_type": "code",
   "execution_count": 1,
   "metadata": {},
   "outputs": [],
   "source": [
    "import requests\n",
    "import json\n",
    "from typing import Any, List, Tuple\n",
    "\n",
    "import numpy as np\n",
    "import torch\n",
    "from numpy import ndarray\n",
    "from tqdm import tqdm\n",
    "from torch.utils.data import DataLoader, Dataset\n",
    "from transformers import (  # type: ignore\n",
    "    AutoModelForSequenceClassification,\n",
    "    BatchEncoding,\n",
    "    BertTokenizerFast,\n",
    "    PreTrainedTokenizerBase,\n",
    ")"
   ]
  },
  {
   "cell_type": "code",
   "execution_count": 2,
   "metadata": {},
   "outputs": [],
   "source": [
    "class MyTextDataset(Dataset):  # type: ignore\n",
    "    def __init__(self, sentence_list: List[str]) -> None:\n",
    "        self.sentences = sentence_list\n",
    "\n",
    "    def __len__(self) -> int:\n",
    "        return len(self.sentences)\n",
    "\n",
    "    def __getitem__(self, idx: int) -> Tuple[int, str]:\n",
    "        return idx, self.sentences[idx]\n",
    "\n",
    "\n",
    "class MyCollateBatch:\n",
    "    def __init__(self, tokenizer: PreTrainedTokenizerBase) -> None:\n",
    "        self.tokenizer = tokenizer\n",
    "\n",
    "    def __call__(self, batch: List[Tuple[int, str]]) -> BatchEncoding:\n",
    "        sentences = [b[1] for b in batch]\n",
    "        idx = [b[0] for b in batch]\n",
    "\n",
    "        text = self.tokenizer(sentences, max_length=512, padding=\"max_length\", truncation=True, return_tensors=\"pt\")\n",
    "        text[\"idx\"] = idx\n",
    "        return text\n",
    "\n",
    "\n",
    "class ModelSentiment:\n",
    "    def __init__(self, model_folder: str, device: torch.device) -> None:\n",
    "        self.device = device\n",
    "        self.model_folder = model_folder\n",
    "\n",
    "        self.tokenizer = BertTokenizerFast.from_pretrained(model_folder)  # type: ignore\n",
    "        self.model = AutoModelForSequenceClassification.from_pretrained(model_folder, return_dict=True)  # type: ignore\n",
    "        self.collate_fn = MyCollateBatch(self.tokenizer)\n",
    "\n",
    "        self.model.to(device)\n",
    "        self.model.eval()\n",
    "\n",
    "    def __call__(self, sentence_list: List[str]):\n",
    "        data_ds = MyTextDataset(sentence_list)\n",
    "        loader = DataLoader(data_ds, batch_size=128, collate_fn=self.collate_fn)\n",
    "        result = np.zeros((len(sentence_list), len(self.class_names())))\n",
    "        for batch in loader:\n",
    "            idx = batch[\"idx\"]\n",
    "            batch = {k: v.to(self.device) for k, v in batch.items() if k != \"idx\"}\n",
    "            with torch.no_grad():\n",
    "                outputs = self.model(**batch)\n",
    "                logits = outputs.logits\n",
    "                predictions = torch.softmax(logits, dim=-1)\n",
    "\n",
    "                result[idx, :] = predictions.to(\"cpu\").numpy()\n",
    "\n",
    "        return result\n",
    "\n",
    "    def class_names(self) -> Any:\n",
    "        return self.model.config.id2label"
   ]
  },
  {
   "cell_type": "code",
   "execution_count": 3,
   "metadata": {},
   "outputs": [],
   "source": [
    "URL = \"http://172.18.211.203:8000\""
   ]
  },
  {
   "cell_type": "code",
   "execution_count": 4,
   "metadata": {},
   "outputs": [],
   "source": [
    "r = requests.get(URL+\"/source\")"
   ]
  },
  {
   "cell_type": "code",
   "execution_count": 5,
   "metadata": {},
   "outputs": [
    {
     "data": {
      "text/plain": [
       "{'items': [{'id': 10,\n",
       "   'site': 'vk.com/other',\n",
       "   'source_type_id': 2,\n",
       "   'parser_state': None,\n",
       "   'last_update': '2022-11-22T16:48:56.239229'},\n",
       "  {'id': 5,\n",
       "   'site': 'banki.ru/news',\n",
       "   'source_type_id': 3,\n",
       "   'parser_state': None,\n",
       "   'last_update': '2022-11-22T18:14:27.994098'},\n",
       "  {'id': 2,\n",
       "   'site': 'sravni.ru',\n",
       "   'source_type_id': 1,\n",
       "   'parser_state': None,\n",
       "   'last_update': '2022-11-22T18:15:08.523091'},\n",
       "  {'id': 7,\n",
       "   'site': 'banki.ru/mfo',\n",
       "   'source_type_id': 1,\n",
       "   'parser_state': None,\n",
       "   'last_update': '2022-11-22T17:50:24.478308'},\n",
       "  {'id': 8,\n",
       "   'site': 'banki.ru/broker',\n",
       "   'source_type_id': 1,\n",
       "   'parser_state': None,\n",
       "   'last_update': '2022-11-22T17:58:20.271769'},\n",
       "  {'id': 4,\n",
       "   'site': 'vk.com/comments',\n",
       "   'source_type_id': 2,\n",
       "   'parser_state': None,\n",
       "   'last_update': '2022-11-22T17:59:08.686448'},\n",
       "  {'id': 6,\n",
       "   'site': 'irecommend.ru',\n",
       "   'source_type_id': 1,\n",
       "   'parser_state': None,\n",
       "   'last_update': '2022-11-20T20:26:07.251741'},\n",
       "  {'id': 9,\n",
       "   'site': 'banki.ru/insurance',\n",
       "   'source_type_id': 1,\n",
       "   'parser_state': None,\n",
       "   'last_update': '2022-11-22T18:00:31.890532'},\n",
       "  {'id': 1,\n",
       "   'site': 'banki.ru',\n",
       "   'source_type_id': 1,\n",
       "   'parser_state': None,\n",
       "   'last_update': '2022-11-22T17:56:18.820361'}]}"
      ]
     },
     "execution_count": 5,
     "metadata": {},
     "output_type": "execute_result"
    }
   ],
   "source": [
    "r.json()"
   ]
  },
  {
   "cell_type": "code",
   "execution_count": 6,
   "metadata": {},
   "outputs": [],
   "source": [
    "r = requests.post(URL+\"/model\", data=json.dumps({\"model_name\":\"ethics_model_sentiment_test\",\"model_type\":\"sentiment\"}))"
   ]
  },
  {
   "cell_type": "code",
   "execution_count": 7,
   "metadata": {},
   "outputs": [],
   "source": [
    "model_id = r.json()[\"model_id\"]"
   ]
  },
  {
   "cell_type": "code",
   "execution_count": 8,
   "metadata": {},
   "outputs": [
    {
     "data": {
      "text/plain": [
       "1"
      ]
     },
     "execution_count": 8,
     "metadata": {},
     "output_type": "execute_result"
    }
   ],
   "source": [
    "model_id"
   ]
  },
  {
   "cell_type": "code",
   "execution_count": 12,
   "metadata": {},
   "outputs": [
    {
     "name": "stdout",
     "output_type": "stream",
     "text": [
      "Wed Nov 23 12:52:13 2022       \n",
      "+-----------------------------------------------------------------------------+\n",
      "| NVIDIA-SMI 460.56       Driver Version: 460.56       CUDA Version: 11.2     |\n",
      "|-------------------------------+----------------------+----------------------+\n",
      "| GPU  Name        Persistence-M| Bus-Id        Disp.A | Volatile Uncorr. ECC |\n",
      "| Fan  Temp  Perf  Pwr:Usage/Cap|         Memory-Usage | GPU-Util  Compute M. |\n",
      "|                               |                      |               MIG M. |\n",
      "|===============================+======================+======================|\n",
      "|   0  GeForce RTX 3080    Off  | 00000000:03:00.0 Off |                  N/A |\n",
      "|  0%   46C    P8    36W / 340W |   6603MiB / 10018MiB |      0%      Default |\n",
      "|                               |                      |                  N/A |\n",
      "+-------------------------------+----------------------+----------------------+\n",
      "|   1  GeForce RTX 3080    Off  | 00000000:08:00.0 Off |                  N/A |\n",
      "|  0%   50C    P8    24W / 340W |     19MiB / 10015MiB |      0%      Default |\n",
      "|                               |                      |                  N/A |\n",
      "+-------------------------------+----------------------+----------------------+\n",
      "                                                                               \n",
      "+-----------------------------------------------------------------------------+\n",
      "| Processes:                                                                  |\n",
      "|  GPU   GI   CI        PID   Type   Process name                  GPU Memory |\n",
      "|        ID   ID                                                   Usage      |\n",
      "|=============================================================================|\n",
      "|    0   N/A  N/A      1118      G   /usr/lib/xorg/Xorg                  4MiB |\n",
      "|    0   N/A  N/A    444637      C   ...vs/jupyterbase/bin/python     6595MiB |\n",
      "|    1   N/A  N/A      1118      G   /usr/lib/xorg/Xorg                 14MiB |\n",
      "+-----------------------------------------------------------------------------+\n"
     ]
    }
   ],
   "source": [
    "!nvidia-smi"
   ]
  },
  {
   "cell_type": "code",
   "execution_count": 10,
   "metadata": {},
   "outputs": [],
   "source": [
    "device = torch.device(\"cuda\") if torch.cuda.is_available() else torch.device(\"cpu\")\n",
    "m = ModelSentiment(\"/home/rsolomatin/ESGanalysis/pretrained_models/model-sentiment\", device)"
   ]
  },
  {
   "cell_type": "code",
   "execution_count": null,
   "metadata": {},
   "outputs": [],
   "source": [
    "params = {\n",
    "    \"sources\": [\n",
    "#         \"banki.ru/broker\",\n",
    "#         \"banki.ru/mfo\",\n",
    "#         \"banki.ru/insurance\",\n",
    "#         \"vk.com/other\",\n",
    "#         \"irecommend.ru\",\n",
    "        \"vk.com/comments\",\n",
    "        \"banki.ru\",\n",
    "        \"sravni.ru\",\n",
    "        \"irecommend.ru\",\n",
    "        \"banki.ru/news\",\n",
    "    ],\n",
    "    \"model_id\": 1,\n",
    "    \"limit\": 1000\n",
    "}\n",
    "for i in tqdm(range(100_000)):\n",
    "    r = requests.get(URL+\"/text/sentences\", params = params)\n",
    "    sentences = [elem[\"sentence\"] for elem in r.json()[\"items\"]]\n",
    "    ids = [elem[\"id\"] for elem in r.json()[\"items\"]]\n",
    "    with torch.no_grad():\n",
    "        result_sentences = m(sentences)\n",
    "    request_data = []\n",
    "    for result_arr, sentence_id in zip(result_sentences, ids):\n",
    "        request_data.append({\"model_id\": model_id, \"text_sentence_id\": sentence_id, \"text_result\":result_arr.tolist()})\n",
    "    r = requests.post(URL+\"/text_result/\", data=json.dumps({\"items\":request_data}))\n",
    "    if r.status_code != 200:\n",
    "        raise Exception(r.text)"
   ]
  },
  {
   "cell_type": "code",
   "execution_count": null,
   "metadata": {},
   "outputs": [],
   "source": []
  }
 ],
 "metadata": {
  "kernelspec": {
   "display_name": "Python 3 (ipykernel)",
   "language": "python",
   "name": "python3"
  },
  "language_info": {
   "codemirror_mode": {
    "name": "ipython",
    "version": 3
   },
   "file_extension": ".py",
   "mimetype": "text/x-python",
   "name": "python",
   "nbconvert_exporter": "python",
   "pygments_lexer": "ipython3",
   "version": "3.10.4"
  },
  "widgets": {
   "application/vnd.jupyter.widget-state+json": {
    "state": {},
    "version_major": 2,
    "version_minor": 0
   }
  }
 },
 "nbformat": 4,
 "nbformat_minor": 4
}
